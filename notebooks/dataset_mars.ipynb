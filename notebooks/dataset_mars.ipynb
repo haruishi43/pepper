{
 "cells": [
  {
   "cell_type": "markdown",
   "id": "49fefc80-802c-4603-9c87-8128aa0b806f",
   "metadata": {},
   "source": [
    "Check MARS dataset:\n",
    "\n",
    "This dataset is an extension of the Market1501 dataset\n",
    "\n",
    "Reference: [dataset link](http://zheng-lab.cecs.anu.edu.au/Project/project_mars.html)\n",
    "\n",
    "What's included in the directories?\n",
    "- `bbox_train`: 625 ids and 8298 tracklets\n",
    "- `bbox_test`: 636 ids and 12180 tracklets"
   ]
  },
  {
   "cell_type": "code",
   "execution_count": 1,
   "id": "50f67f8e-0cb9-4fa9-a3fc-e50f0400cf94",
   "metadata": {},
   "outputs": [
    {
     "name": "stdout",
     "output_type": "stream",
     "text": [
      "/home/ubuntu/dev/reid/pepper\n"
     ]
    }
   ],
   "source": [
    "%cd .."
   ]
  },
  {
   "cell_type": "code",
   "execution_count": 2,
   "id": "4473e37a-b06d-4116-bc16-eda7c70bd777",
   "metadata": {},
   "outputs": [],
   "source": [
    "# builtin\n",
    "from collections import defaultdict\n",
    "import os.path as osp\n",
    "import re\n",
    "\n",
    "# third-party\n",
    "import matplotlib.pyplot as plt\n",
    "import numpy as np\n",
    "import pandas as pd\n",
    "from scipy.io import loadmat\n",
    "\n",
    "# mm\n",
    "import mmcv"
   ]
  },
  {
   "cell_type": "code",
   "execution_count": 30,
   "id": "a18e666e-ed95-4070-86b9-90e6f34a699e",
   "metadata": {},
   "outputs": [],
   "source": [
    "ROOT = 'data/mars'\n",
    "\n",
    "# files:\n",
    "train_name_path = osp.join(ROOT, 'info', 'train_name.txt')\n",
    "test_name_path = osp.join(ROOT, 'info', 'test_name.txt')\n",
    "tracks_train_path = osp.join(ROOT, 'info', 'tracks_train_info.mat')\n",
    "tracks_test_path = osp.join(ROOT, 'info', 'tracks_test_info.mat')\n",
    "query_idx_path = osp.join(ROOT, 'info', 'query_IDX.mat')\n",
    "train_dir = osp.join(ROOT, 'bbox_train')\n",
    "test_dir = osp.join(ROOT, 'bbox_test')\n",
    "\n",
    "assert osp.exists(train_name_path)\n",
    "assert osp.exists(test_name_path)\n",
    "assert osp.exists(tracks_train_path)\n",
    "assert osp.exists(tracks_test_path)\n",
    "assert osp.exists(query_idx_path)\n",
    "assert osp.exists(train_dir)\n",
    "assert osp.exists(test_dir)"
   ]
  },
  {
   "cell_type": "code",
   "execution_count": 25,
   "id": "d22c9013-e5f6-4cb0-8b86-592c127f1180",
   "metadata": {},
   "outputs": [],
   "source": [
    "def get_names(fpath):\n",
    "    names = []\n",
    "    with open(fpath, \"r\") as f:\n",
    "        for line in f:\n",
    "            new_line = line.rstrip()\n",
    "            names.append(new_line)\n",
    "    return names"
   ]
  },
  {
   "cell_type": "code",
   "execution_count": 26,
   "id": "2a576e2c-7923-4ddb-a992-ca466897afa1",
   "metadata": {},
   "outputs": [],
   "source": [
    "# get names\n",
    "train_names = get_names(train_name_path)\n",
    "test_names = get_names(test_name_path)"
   ]
  },
  {
   "cell_type": "code",
   "execution_count": 21,
   "id": "23f76298-8b68-47ba-86f8-45164abfe9bd",
   "metadata": {},
   "outputs": [
    {
     "name": "stdout",
     "output_type": "stream",
     "text": [
      "(8298, 4) (12180, 4)\n",
      "1980 10200\n"
     ]
    }
   ],
   "source": [
    "# load .mat\n",
    "# (8298, 4)\n",
    "tracks_train = loadmat(tracks_train_path)['track_train_info']\n",
    "# (12180, 4)\n",
    "tracks_test = loadmat(tracks_test_path)['track_test_info']\n",
    "# (1980,)\n",
    "query_idx = loadmat(query_idx_path)['query_IDX'].squeeze()\n",
    "query_idx -= 1  # index from 0\n",
    "gallery_idx = [i for i in range(tracks_test.shape[0]) if i not in query_idx]\n",
    "\n",
    "print(tracks_train.shape, tracks_test.shape)\n",
    "print(len(query_idx), len(gallery_idx))"
   ]
  },
  {
   "cell_type": "code",
   "execution_count": 39,
   "id": "3babd2c5-12e4-4ceb-9856-29fd86318d8c",
   "metadata": {},
   "outputs": [
    {
     "name": "stdout",
     "output_type": "stream",
     "text": [
      "(1980, 4) (10200, 4)\n"
     ]
    }
   ],
   "source": [
    "tracks_query = tracks_test[query_idx, :]\n",
    "tracks_gallery = tracks_test[gallery_idx, :]\n",
    "print(tracks_query.shape, tracks_gallery.shape)"
   ]
  },
  {
   "cell_type": "code",
   "execution_count": 44,
   "id": "d9bdc550-d560-42f1-9816-d743aa0710c9",
   "metadata": {},
   "outputs": [
    {
     "name": "stdout",
     "output_type": "stream",
     "text": [
      "# train ids: 625\n",
      "# test ids: 636\n",
      "# query ids: 626\n",
      "# gallery ids: 622\n",
      "# differnt ids (q&g): 10\n",
      "ids: {0, 166, 1034, 1354, 12, 14, 1104, 982, 154, -1}\n"
     ]
    }
   ],
   "source": [
    "print('# train ids:', len(list(set(tracks_train[:, 2]))))\n",
    "print('# test ids:', len(list(set(tracks_test[:, 2]))))\n",
    "print('# query ids:', len(list(set(tracks_query[:, 2]))))\n",
    "print('# gallery ids:', len(list(set(tracks_gallery[:, 2]))))  # includes 0, -1\n",
    "\n",
    "# some query ids do not appear in gallery?\n",
    "diff = set(tracks_gallery[:, 2]) - set(tracks_query[:, 2])\n",
    "print('# differnt ids (q&g):', len(diff))\n",
    "print('ids:', diff)"
   ]
  },
  {
   "cell_type": "code",
   "execution_count": 83,
   "id": "b9524835-ad69-4fcb-b8cf-a851199946ae",
   "metadata": {},
   "outputs": [],
   "source": [
    "def parse_mars(names, img_dir, meta_data, relabel=False, min_seq_len=0):\n",
    "    # tracks meta_data [start_index, end_index, pid, camid]\n",
    "    num_tracklets = meta_data.shape[0]\n",
    "    pid_list = list(set(meta_data[:, 2]))\n",
    "    \n",
    "    if relabel:\n",
    "        pid2label = {pid: label for label, pid, in enumerate(pid_list)}\n",
    "    tracklets = []\n",
    "    \n",
    "    for tracklet_idx in range(num_tracklets):\n",
    "        data = meta_data[tracklet_idx, ...]\n",
    "        start_index, end_index, pid, camid = data\n",
    "        \n",
    "        if pid == -1:\n",
    "            continue  # junk images are ignored\n",
    "            \n",
    "        assert 1 <= camid <= 6\n",
    "        if relabel:\n",
    "            pid = pid2label[pid]\n",
    "        \n",
    "        camid -= 1\n",
    "        img_names = names[start_index - 1 : end_index]\n",
    "        \n",
    "        # make sure images  names correspond to the same person\n",
    "        pnames = [img_name[:4] for img_name in img_names]\n",
    "        assert len(set(pnames)) == 1\n",
    "        \n",
    "        # make sure all images are captured under the same camera\n",
    "        camnames = [img_name[5] for img_name in img_names]\n",
    "        assert len(set(camnames)) == 1\n",
    "        \n",
    "        # append image names with directory information\n",
    "        img_paths = [osp.join(img_dir, img_name[:4], img_name) for img_name in img_names]\n",
    "        if len(img_paths) >= min_seq_len:\n",
    "            tracklets.append(\n",
    "                dict(\n",
    "                    pid=pid,\n",
    "                    camid=camid,\n",
    "                    img_paths=img_paths,\n",
    "                    tracklet_length=len(img_paths),\n",
    "                )\n",
    "            )\n",
    "    \n",
    "    return tracklets"
   ]
  },
  {
   "cell_type": "code",
   "execution_count": 84,
   "id": "30162523-f3d1-4718-b220-9d65b386ff31",
   "metadata": {},
   "outputs": [],
   "source": [
    "train_data = parse_mars(train_names, 'bbox_train', tracks_train)"
   ]
  },
  {
   "cell_type": "code",
   "execution_count": 85,
   "id": "54e57cfc-2d19-4f2b-b841-84e4d5db96ac",
   "metadata": {},
   "outputs": [
    {
     "name": "stdout",
     "output_type": "stream",
     "text": [
      "8298\n",
      "{'pid': 1, 'camid': 0, 'img_paths': ['bbox_train/0001/0001C1T0001F001.jpg', 'bbox_train/0001/0001C1T0001F002.jpg', 'bbox_train/0001/0001C1T0001F003.jpg', 'bbox_train/0001/0001C1T0001F004.jpg', 'bbox_train/0001/0001C1T0001F005.jpg', 'bbox_train/0001/0001C1T0001F006.jpg', 'bbox_train/0001/0001C1T0001F007.jpg', 'bbox_train/0001/0001C1T0001F008.jpg', 'bbox_train/0001/0001C1T0001F009.jpg', 'bbox_train/0001/0001C1T0001F010.jpg', 'bbox_train/0001/0001C1T0001F011.jpg', 'bbox_train/0001/0001C1T0001F012.jpg', 'bbox_train/0001/0001C1T0001F013.jpg', 'bbox_train/0001/0001C1T0001F014.jpg', 'bbox_train/0001/0001C1T0001F015.jpg', 'bbox_train/0001/0001C1T0001F016.jpg'], 'tracklet_length': 16}\n"
     ]
    }
   ],
   "source": [
    "print(len(train_data))\n",
    "print(train_data[0])"
   ]
  },
  {
   "cell_type": "code",
   "execution_count": 86,
   "id": "bc06334b-7aa7-4845-95f2-76d05eb594bb",
   "metadata": {},
   "outputs": [],
   "source": [
    "query_data = parse_mars(test_names, 'bbox_test', tracks_query)"
   ]
  },
  {
   "cell_type": "code",
   "execution_count": 87,
   "id": "a456b905-3510-465d-bc79-95c778aad38c",
   "metadata": {},
   "outputs": [
    {
     "name": "stdout",
     "output_type": "stream",
     "text": [
      "1980\n",
      "{'pid': 2, 'camid': 0, 'img_paths': ['bbox_test/0002/0002C1T0012F001.jpg', 'bbox_test/0002/0002C1T0012F002.jpg', 'bbox_test/0002/0002C1T0012F003.jpg', 'bbox_test/0002/0002C1T0012F004.jpg', 'bbox_test/0002/0002C1T0012F005.jpg', 'bbox_test/0002/0002C1T0012F006.jpg', 'bbox_test/0002/0002C1T0012F007.jpg', 'bbox_test/0002/0002C1T0012F008.jpg', 'bbox_test/0002/0002C1T0012F009.jpg', 'bbox_test/0002/0002C1T0012F010.jpg', 'bbox_test/0002/0002C1T0012F011.jpg', 'bbox_test/0002/0002C1T0012F012.jpg', 'bbox_test/0002/0002C1T0012F013.jpg', 'bbox_test/0002/0002C1T0012F014.jpg', 'bbox_test/0002/0002C1T0012F015.jpg', 'bbox_test/0002/0002C1T0012F016.jpg', 'bbox_test/0002/0002C1T0012F017.jpg', 'bbox_test/0002/0002C1T0012F018.jpg', 'bbox_test/0002/0002C1T0012F019.jpg', 'bbox_test/0002/0002C1T0012F020.jpg', 'bbox_test/0002/0002C1T0012F021.jpg', 'bbox_test/0002/0002C1T0012F022.jpg', 'bbox_test/0002/0002C1T0012F023.jpg', 'bbox_test/0002/0002C1T0012F024.jpg', 'bbox_test/0002/0002C1T0012F025.jpg', 'bbox_test/0002/0002C1T0012F026.jpg', 'bbox_test/0002/0002C1T0012F027.jpg', 'bbox_test/0002/0002C1T0012F028.jpg', 'bbox_test/0002/0002C1T0012F029.jpg', 'bbox_test/0002/0002C1T0012F030.jpg', 'bbox_test/0002/0002C1T0012F031.jpg', 'bbox_test/0002/0002C1T0012F032.jpg', 'bbox_test/0002/0002C1T0012F033.jpg', 'bbox_test/0002/0002C1T0012F034.jpg', 'bbox_test/0002/0002C1T0012F035.jpg', 'bbox_test/0002/0002C1T0012F036.jpg', 'bbox_test/0002/0002C1T0012F037.jpg', 'bbox_test/0002/0002C1T0012F038.jpg', 'bbox_test/0002/0002C1T0012F039.jpg', 'bbox_test/0002/0002C1T0012F040.jpg'], 'tracklet_length': 40}\n"
     ]
    }
   ],
   "source": [
    "print(len(query_data))\n",
    "print(query_data[0])"
   ]
  },
  {
   "cell_type": "code",
   "execution_count": 88,
   "id": "46834266-7504-4491-8cb2-d8340954ff48",
   "metadata": {},
   "outputs": [],
   "source": [
    "gallery_data = parse_mars(test_names, 'bbox_test', tracks_gallery)"
   ]
  },
  {
   "cell_type": "code",
   "execution_count": 89,
   "id": "70061b7e-8969-4937-8d16-9509decb6260",
   "metadata": {},
   "outputs": [
    {
     "name": "stdout",
     "output_type": "stream",
     "text": [
      "9330\n",
      "{'pid': 0, 'camid': 0, 'img_paths': ['bbox_test/0000/0000C1T0001F001.jpg', 'bbox_test/0000/0000C1T0001F002.jpg', 'bbox_test/0000/0000C1T0001F003.jpg', 'bbox_test/0000/0000C1T0001F004.jpg', 'bbox_test/0000/0000C1T0001F005.jpg', 'bbox_test/0000/0000C1T0001F006.jpg', 'bbox_test/0000/0000C1T0001F007.jpg', 'bbox_test/0000/0000C1T0001F008.jpg', 'bbox_test/0000/0000C1T0001F009.jpg', 'bbox_test/0000/0000C1T0001F010.jpg'], 'tracklet_length': 10}\n"
     ]
    }
   ],
   "source": [
    "print(len(gallery_data))\n",
    "print(gallery_data[0])"
   ]
  },
  {
   "cell_type": "code",
   "execution_count": 79,
   "id": "36a1a8cc-aa78-4493-91cc-334840d7499a",
   "metadata": {},
   "outputs": [],
   "source": [
    "def count_data(data):\n",
    "    counts = defaultdict(int)\n",
    "    for d in data:\n",
    "        counts[d['pid']] += 1\n",
    "    return counts"
   ]
  },
  {
   "cell_type": "code",
   "execution_count": 80,
   "id": "d1075fb5-badb-4531-ac7c-52f065cae386",
   "metadata": {},
   "outputs": [
    {
     "name": "stdout",
     "output_type": "stream",
     "text": [
      "                0\n",
      "count  625.000000\n",
      "mean    13.276800\n",
      "std     15.992342\n",
      "min      1.000000\n",
      "25%      7.000000\n",
      "50%     10.000000\n",
      "75%     16.000000\n",
      "max    271.000000\n"
     ]
    }
   ],
   "source": [
    "df = pd.DataFrame.from_dict(count_data(train_data), orient='index')\n",
    "print(df.describe())"
   ]
  },
  {
   "cell_type": "code",
   "execution_count": 81,
   "id": "6d2ec523-de87-4a4c-994f-267c3b0c226c",
   "metadata": {},
   "outputs": [
    {
     "name": "stdout",
     "output_type": "stream",
     "text": [
      "                0\n",
      "count  626.000000\n",
      "mean     3.162939\n",
      "std      1.109508\n",
      "min      2.000000\n",
      "25%      2.000000\n",
      "50%      3.000000\n",
      "75%      4.000000\n",
      "max      6.000000\n"
     ]
    }
   ],
   "source": [
    "df = pd.DataFrame.from_dict(count_data(query_data), orient='index')\n",
    "print(df.describe())"
   ]
  },
  {
   "cell_type": "code",
   "execution_count": 82,
   "id": "93cc7099-eacb-40c2-877b-6875e94647ee",
   "metadata": {},
   "outputs": [
    {
     "name": "stdout",
     "output_type": "stream",
     "text": [
      "                 0\n",
      "count   621.000000\n",
      "mean     15.024155\n",
      "std     130.502791\n",
      "min       1.000000\n",
      "25%       4.000000\n",
      "50%       7.000000\n",
      "75%      11.000000\n",
      "max    3248.000000\n"
     ]
    }
   ],
   "source": [
    "df = pd.DataFrame.from_dict(count_data(gallery_data), orient='index')\n",
    "print(df.describe())"
   ]
  },
  {
   "cell_type": "code",
   "execution_count": 90,
   "id": "e676219c-0c95-4354-8243-16dd3291db7a",
   "metadata": {},
   "outputs": [
    {
     "name": "stdout",
     "output_type": "stream",
     "text": [
      "61.45022897083635\n"
     ]
    }
   ],
   "source": [
    "total = 0\n",
    "for td in train_data:\n",
    "    total += td['tracklet_length']\n",
    "\n",
    "print(total / len(train_data))"
   ]
  },
  {
   "cell_type": "code",
   "execution_count": 91,
   "id": "1f5ee1bb-b4da-44cb-ae07-f52d0f50c58d",
   "metadata": {},
   "outputs": [
    {
     "name": "stdout",
     "output_type": "stream",
     "text": [
      "57.824747474747475\n"
     ]
    }
   ],
   "source": [
    "total = 0\n",
    "for td in query_data:\n",
    "    total += td['tracklet_length']\n",
    "\n",
    "print(total / len(query_data))"
   ]
  },
  {
   "cell_type": "code",
   "execution_count": 92,
   "id": "8108ca76-44f4-4a1d-a320-0ba76c2ae135",
   "metadata": {},
   "outputs": [
    {
     "name": "stdout",
     "output_type": "stream",
     "text": [
      "58.22250803858521\n"
     ]
    }
   ],
   "source": [
    "total = 0\n",
    "for td in gallery_data:\n",
    "    total += td['tracklet_length']\n",
    "\n",
    "print(total / len(gallery_data))"
   ]
  },
  {
   "cell_type": "code",
   "execution_count": null,
   "id": "991b8103-e547-4cd4-8d6a-7e9c3b62b322",
   "metadata": {},
   "outputs": [],
   "source": []
  }
 ],
 "metadata": {
  "kernelspec": {
   "display_name": "Python 3 (ipykernel)",
   "language": "python",
   "name": "python3"
  },
  "language_info": {
   "codemirror_mode": {
    "name": "ipython",
    "version": 3
   },
   "file_extension": ".py",
   "mimetype": "text/x-python",
   "name": "python",
   "nbconvert_exporter": "python",
   "pygments_lexer": "ipython3",
   "version": "3.8.8"
  }
 },
 "nbformat": 4,
 "nbformat_minor": 5
}

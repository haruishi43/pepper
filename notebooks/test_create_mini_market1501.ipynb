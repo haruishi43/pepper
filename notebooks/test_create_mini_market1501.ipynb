{
 "cells": [
  {
   "cell_type": "markdown",
   "id": "80cc5993-b693-41b4-9c7c-1d26de0c1e7a",
   "metadata": {},
   "source": [
    "Mini Market1501\n",
    "\n",
    "Reference: [link](http://zheng-lab.cecs.anu.edu.au/Project/project_reid.html)\n",
    "\n",
    "What's included in the directories?\n",
    "- `bounding_box_test`: 19732 images\n",
    "- `bounding_box_train`: 12936 images\n",
    "- `query`: 750 identities with maximum of 6 images per identity (total of 3368 images)\n",
    "\n",
    "Naming Rules: (example `0001_c1s1_001051_00.jpg`)\n",
    "- `c1` is the first camera (totally 6 cameras).\n",
    "- `s1` is sequence 1 of camera 1.\n",
    "- `001051` is the 1051th frame in the sequence.\n",
    "- The last two digts, are the bbox number for DPM detector."
   ]
  },
  {
   "cell_type": "code",
   "execution_count": 3,
   "id": "dffdf842-fa4d-4c29-90e4-c2cd5fd5bd43",
   "metadata": {},
   "outputs": [
    {
     "name": "stdout",
     "output_type": "stream",
     "text": [
      "/home/ubuntu/dev/reid/pepper\n"
     ]
    }
   ],
   "source": [
    "%cd .."
   ]
  },
  {
   "cell_type": "code",
   "execution_count": 46,
   "id": "dd52c5ac-758d-416d-b03f-babe96bd5619",
   "metadata": {},
   "outputs": [],
   "source": [
    "# builtin\n",
    "from collections import Counter, defaultdict\n",
    "import os.path as osp\n",
    "import re\n",
    "from shutil import copy2 as copy\n",
    "\n",
    "# third-party\n",
    "import matplotlib.pyplot as plt\n",
    "import numpy as np\n",
    "import pandas as pd\n",
    "from PIL import Image\n",
    "\n",
    "# mm\n",
    "import mmcv"
   ]
  },
  {
   "cell_type": "code",
   "execution_count": 4,
   "id": "1446034d-d903-445f-b6fa-25992e710824",
   "metadata": {},
   "outputs": [],
   "source": [
    "train_path = \"data/market1501/Market-1501-v15.09.15/bounding_box_train\"\n",
    "query_path = \"data/market1501/Market-1501-v15.09.15/query\"\n",
    "gallery_path = \"data/market1501/Market-1501-v15.09.15/bounding_box_test\"\n",
    "\n",
    "assert osp.exists(train_path)\n",
    "assert osp.exists(query_path)\n",
    "assert osp.exists(gallery_path)"
   ]
  },
  {
   "cell_type": "code",
   "execution_count": 6,
   "id": "9533c0f3-2064-48b5-bc8d-4cf8a34a5e4c",
   "metadata": {},
   "outputs": [],
   "source": [
    "test_train_path = \"tests/data/mini_market1501/bounding_box_train\"\n",
    "test_query_path = \"tests/data/mini_market1501/query\"\n",
    "test_gallery_path = \"tests/data/mini_market1501/bounding_box_test\"\n",
    "\n",
    "mmcv.mkdir_or_exist(test_train_path)\n",
    "mmcv.mkdir_or_exist(test_query_path)\n",
    "mmcv.mkdir_or_exist(test_gallery_path)"
   ]
  },
  {
   "cell_type": "code",
   "execution_count": 14,
   "id": "da2cbf77-4202-4c05-97b9-0e92907d830f",
   "metadata": {},
   "outputs": [],
   "source": [
    "def parse_orig_market1501(image_paths, relabel=False, ignores=[-1]):\n",
    "    \n",
    "    pattern = re.compile(r\"([-\\d]+)_c(\\d)\")\n",
    "    \n",
    "    def _split(path):\n",
    "        pid, camid = map(int, pattern.search(path).groups())\n",
    "        return pid, camid\n",
    "    \n",
    "    persons = []\n",
    "    pid_container = set()\n",
    "    for img_path in image_paths:\n",
    "        pid, camid = _split(img_path)\n",
    "        \n",
    "        if pid in ignores:\n",
    "            continue  # junk images are just ignored\n",
    "\n",
    "        assert 0 <= pid <= 1501  # pid == 0 means background\n",
    "        assert 1 <= camid <= 6\n",
    "        camid -= 1  # index starts from 0\n",
    "        \n",
    "        pid_container.add(pid)\n",
    "        persons.append(\n",
    "            dict(\n",
    "                pid=pid,\n",
    "                camid=camid,\n",
    "                path=img_path,\n",
    "            )\n",
    "        )\n",
    "    \n",
    "    pid2label = {pid: label for label, pid in enumerate(pid_container)}\n",
    "\n",
    "    if relabel:\n",
    "        print('relabeling')\n",
    "        for p in persons:\n",
    "            pid = pid2label[p['pid']]\n",
    "            p['pid'] = pid\n",
    "            \n",
    "    return persons"
   ]
  },
  {
   "cell_type": "code",
   "execution_count": 13,
   "id": "84db8d3b-3e38-4066-8369-e6d1a26f224d",
   "metadata": {},
   "outputs": [],
   "source": [
    "orig_train_data = parse_orig_market1501(mmcv.scandir(train_path, \".jpg\"))\n",
    "orig_gallery_data = parse_orig_market1501(mmcv.scandir(gallery_path, \".jpg\"))\n",
    "orig_query_data = parse_orig_market1501(mmcv.scandir(query_path, \".jpg\"))"
   ]
  },
  {
   "cell_type": "code",
   "execution_count": 17,
   "id": "df8f2e2f-e9e1-423b-8267-f0f206b1064c",
   "metadata": {},
   "outputs": [
    {
     "data": {
      "text/plain": [
       "(12936, 15913, 3368)"
      ]
     },
     "execution_count": 17,
     "metadata": {},
     "output_type": "execute_result"
    }
   ],
   "source": [
    "len(orig_train_data), len(orig_gallery_data), len(orig_query_data)"
   ]
  },
  {
   "cell_type": "code",
   "execution_count": 19,
   "id": "fc9eb48c-e907-4925-9606-6da76f1563d2",
   "metadata": {},
   "outputs": [],
   "source": [
    "# hard-coded variables for mini-market1501\n",
    "num_ids = 16\n",
    "num_inst = 2\n",
    "root_dir = \"tests/data/mini_market1501\"\n",
    "train_dir = osp.join(root_dir, \"bounding_box_train\")\n",
    "query_dir = osp.join(root_dir, \"query\")\n",
    "gallery_dir = osp.join(root_dir, \"bounding_box_test\")\n",
    "\n",
    "assert osp.exists(train_dir)\n",
    "assert osp.exists(query_dir)\n",
    "assert osp.exists(gallery_dir)"
   ]
  },
  {
   "cell_type": "code",
   "execution_count": 45,
   "id": "e813f37d-1031-4c43-a5f9-5a45f47d65c0",
   "metadata": {},
   "outputs": [
    {
     "name": "stdout",
     "output_type": "stream",
     "text": [
      "Counter({2: 2, 32: 2, 42: 2, 35: 2, 37: 2, 23: 2, 22: 2, 10: 2, 20: 2, 27: 2, 43: 2, 11: 2, 28: 2, 12: 2, 7: 2, 30: 2})\n",
      "32\n"
     ]
    }
   ],
   "source": [
    "# gather new training data\n",
    "\n",
    "pids = list(set([d['pid'] for d in orig_train_data]))\n",
    "use_pids = pids[:num_ids]\n",
    "\n",
    "counter = Counter()\n",
    "train_data = []\n",
    "for data in orig_train_data:\n",
    "    pid = data['pid']\n",
    "    if pid in use_pids:\n",
    "        if counter[pid] < 2:\n",
    "            train_data.append(data)\n",
    "            counter[pid] += 1\n",
    "        if sum(counter.values()) == 32:\n",
    "            break\n",
    "\n",
    "print(counter)\n",
    "print(sum(counter.values()))"
   ]
  },
  {
   "cell_type": "code",
   "execution_count": 47,
   "id": "ffa44a4d-636a-4a37-82c8-5e74f150762c",
   "metadata": {},
   "outputs": [],
   "source": [
    "# cp images to mini_market1501\n",
    "for data in train_data:\n",
    "    copy(osp.join(train_path, data['path']), osp.join(train_dir, data['path']))"
   ]
  },
  {
   "cell_type": "code",
   "execution_count": 50,
   "id": "c354f580-5cca-47ce-af6a-0f4c932d53ae",
   "metadata": {},
   "outputs": [],
   "source": [
    "# check!\n",
    "for data in train_data:\n",
    "    sample = Image.open(osp.join(train_dir, data['path']))\n",
    "    # sample.show()"
   ]
  },
  {
   "cell_type": "code",
   "execution_count": 61,
   "id": "b0a242d2-9804-4406-b99c-a7f8e49ebefb",
   "metadata": {},
   "outputs": [
    {
     "name": "stdout",
     "output_type": "stream",
     "text": [
      "Counter({19: 2, 15: 2, 6: 2, 4: 2, 5: 2, 26: 2, 18: 2, 16: 2, 17: 2, 21: 2, 14: 2, 8: 2, 24: 2, 9: 2, 25: 2, 13: 2})\n",
      "32\n"
     ]
    }
   ],
   "source": [
    "# gather new gallery data\n",
    "\n",
    "pids = list(set([d['pid'] for d in orig_gallery_data]))\n",
    "use_pids = pids[3:num_ids+3]\n",
    "\n",
    "counter = Counter()\n",
    "gallery_data = []\n",
    "for data in orig_gallery_data:\n",
    "    pid = data['pid']\n",
    "    if pid in use_pids:\n",
    "        if counter[pid] < 2:\n",
    "            gallery_data.append(data)\n",
    "            counter[pid] += 1\n",
    "        if sum(counter.values()) == 32:\n",
    "            break\n",
    "\n",
    "print(counter)\n",
    "print(sum(counter.values()))"
   ]
  },
  {
   "cell_type": "code",
   "execution_count": 54,
   "id": "5aa524f2-8309-43f1-bc95-d9979980a8c9",
   "metadata": {},
   "outputs": [],
   "source": [
    "# cp images to mini_market1501\n",
    "for data in gallery_data:\n",
    "    copy(osp.join(gallery_path, data['path']), osp.join(gallery_dir, data['path']))"
   ]
  },
  {
   "cell_type": "code",
   "execution_count": 67,
   "id": "81956676-da37-412f-9475-7866497a9322",
   "metadata": {},
   "outputs": [],
   "source": [
    "# check!\n",
    "for data in gallery_data:\n",
    "    sample = Image.open(osp.join(gallery_dir, data['path']))\n",
    "    # sample.show()"
   ]
  },
  {
   "cell_type": "code",
   "execution_count": 62,
   "id": "8be1c8a6-36f8-43bc-aec9-fce64688215f",
   "metadata": {},
   "outputs": [
    {
     "name": "stdout",
     "output_type": "stream",
     "text": [
      "Counter({24: 2, 14: 2, 4: 2, 19: 2, 17: 2, 16: 2, 9: 2, 15: 2, 18: 2, 5: 2, 21: 2, 25: 2, 8: 2, 13: 2, 6: 2, 26: 2})\n",
      "32\n"
     ]
    }
   ],
   "source": [
    "# gather new query data (using the same id as gallery)\n",
    "\n",
    "counter = Counter()\n",
    "query_data = []\n",
    "for data in orig_query_data:\n",
    "    pid = data['pid']\n",
    "    if pid in use_pids:\n",
    "        if counter[pid] < 2:\n",
    "            query_data.append(data)\n",
    "            counter[pid] += 1\n",
    "        if sum(counter.values()) == 32:\n",
    "            break\n",
    "\n",
    "print(counter)\n",
    "print(sum(counter.values()))"
   ]
  },
  {
   "cell_type": "code",
   "execution_count": 63,
   "id": "53f00a2c-40cf-4bac-9290-40d1134ad929",
   "metadata": {},
   "outputs": [],
   "source": [
    "# cp images to mini_market1501\n",
    "for data in query_data:\n",
    "    copy(osp.join(query_path, data['path']), osp.join(query_dir, data['path']))"
   ]
  },
  {
   "cell_type": "code",
   "execution_count": 66,
   "id": "21c3ad3f-9158-49b6-9788-c53b0cca6415",
   "metadata": {},
   "outputs": [],
   "source": [
    "# check!\n",
    "for data in query_data:\n",
    "    sample = Image.open(osp.join(query_dir, data['path']))\n",
    "    # sample.show()"
   ]
  },
  {
   "cell_type": "code",
   "execution_count": 68,
   "id": "9edbca91-b447-41be-8885-965edda5a3fc",
   "metadata": {},
   "outputs": [],
   "source": [
    "# make json annotation files\n",
    "\n",
    "ann_dir = osp.join(root_dir, \"gtPepper\")\n",
    "mmcv.mkdir_or_exist(ann_dir)"
   ]
  },
  {
   "cell_type": "code",
   "execution_count": 69,
   "id": "ee56189b-a5c4-4609-90e2-6541834c3b84",
   "metadata": {},
   "outputs": [],
   "source": [
    "def parse_market1501(image_paths, relabel=False, ignores=[-1]):\n",
    "\n",
    "    pattern = re.compile(r\"([-\\d]+)_c(\\d)\")\n",
    "\n",
    "    def _split(path):\n",
    "        _pid, _camid = map(int, pattern.search(path).groups())\n",
    "        return _pid, _camid\n",
    "\n",
    "    persons = []\n",
    "\n",
    "    pid_container = set()\n",
    "    for img_path in image_paths:\n",
    "        pid, camid = _split(img_path)\n",
    "        if pid in ignores:\n",
    "            continue  # junk images are just ignored\n",
    "\n",
    "        assert 0 <= pid <= 1501  # pid == 0 means background\n",
    "        assert 1 <= camid <= 6\n",
    "        camid -= 1  # index starts from 0\n",
    "\n",
    "        pid_container.add(pid)\n",
    "        persons.append(\n",
    "            dict(\n",
    "                pid=pid,\n",
    "                camid=camid,\n",
    "                img_path=img_path,\n",
    "            )\n",
    "        )\n",
    "\n",
    "    pid2label = {pid: label for label, pid in enumerate(pid_container)}\n",
    "\n",
    "    if relabel:\n",
    "        print('relabeling')\n",
    "        for p in persons:\n",
    "            pid = pid2label[p['pid']]\n",
    "            p['pid'] = pid\n",
    "\n",
    "    return persons"
   ]
  },
  {
   "cell_type": "code",
   "execution_count": 72,
   "id": "fe6ea57a-03de-46aa-bd2c-e7f0f6b1244f",
   "metadata": {},
   "outputs": [
    {
     "name": "stdout",
     "output_type": "stream",
     "text": [
      "relabeling\n",
      ">>> parsed train, contains 32 samples\n",
      ">>> parsed query, contains 32 samples\n",
      ">>> parsed gallery, contains 32 samples\n"
     ]
    }
   ],
   "source": [
    "split_paths = dict(\n",
    "    train=train_dir,\n",
    "    query=query_dir,\n",
    "    gallery=gallery_dir,\n",
    ")\n",
    "img_suffix = \".jpg\"\n",
    "\n",
    "# create a list of dict\n",
    "for split, split_path in split_paths.items():\n",
    "    # NOTE: generators can only iterate once\n",
    "    img_paths = mmcv.scandir(split_path, suffix=img_suffix)\n",
    "    relabel = split == 'train'\n",
    "    data = parse_market1501(img_paths, relabel=relabel)\n",
    "\n",
    "    print(f\">>> parsed {split}, contains {len(data)} samples\")\n",
    "\n",
    "    # save data as json file\n",
    "    save_fp = osp.join(ann_dir, f\"{split}.json\")\n",
    "    with open(save_fp, \"w\") as f:\n",
    "        json.dump(data, f, indent=4)"
   ]
  },
  {
   "cell_type": "code",
   "execution_count": null,
   "id": "66f64d19-0c5e-4bfa-b5f6-80db9903df57",
   "metadata": {},
   "outputs": [],
   "source": []
  }
 ],
 "metadata": {
  "kernelspec": {
   "display_name": "Python 3 (ipykernel)",
   "language": "python",
   "name": "python3"
  },
  "language_info": {
   "codemirror_mode": {
    "name": "ipython",
    "version": 3
   },
   "file_extension": ".py",
   "mimetype": "text/x-python",
   "name": "python",
   "nbconvert_exporter": "python",
   "pygments_lexer": "ipython3",
   "version": "3.8.8"
  }
 },
 "nbformat": 4,
 "nbformat_minor": 5
}

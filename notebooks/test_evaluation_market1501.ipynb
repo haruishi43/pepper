{
 "cells": [
  {
   "cell_type": "code",
   "execution_count": 1,
   "id": "ff65d272-4e97-45a1-ab9a-82c57b00ea62",
   "metadata": {},
   "outputs": [
    {
     "name": "stdout",
     "output_type": "stream",
     "text": [
      "/home/ubuntu/dev/reid/pepper\n"
     ]
    }
   ],
   "source": [
    "%cd .."
   ]
  },
  {
   "cell_type": "code",
   "execution_count": 2,
   "id": "74cf5d16-513b-43b1-a0ca-25b0422406de",
   "metadata": {},
   "outputs": [],
   "source": [
    "import os.path as osp\n",
    "from copy import deepcopy\n",
    "\n",
    "import numpy as np\n",
    "import torch\n",
    "\n",
    "import mmcv"
   ]
  },
  {
   "cell_type": "markdown",
   "id": "ad313253-995e-448f-bae2-278b1bb448a5",
   "metadata": {
    "tags": []
   },
   "source": [
    "# Check market1501 evaluation\n",
    "\n",
    "- [x] load config\n",
    "- [x] load pretrained model\n",
    "- [x] build dataset\n",
    "- [x] build a validation dataloader\n",
    "- [ ] get features\n",
    "\n",
    "Debugging:\n",
    "- figure out why the results are so low"
   ]
  },
  {
   "cell_type": "code",
   "execution_count": 3,
   "id": "90208a12-d9e7-4709-a408-72580e160db6",
   "metadata": {
    "collapsed": true,
    "jupyter": {
     "outputs_hidden": true
    },
    "tags": []
   },
   "outputs": [
    {
     "name": "stdout",
     "output_type": "stream",
     "text": [
      "model = dict(\n",
      "    type='ImageReID',\n",
      "    backbone=dict(\n",
      "        type='ResNet',\n",
      "        depth=50,\n",
      "        num_stages=4,\n",
      "        out_indices=(3, ),\n",
      "        style='pytorch'),\n",
      "    neck=dict(type='KernelGlobalAveragePooling', kernel_size=(8, 4), stride=1),\n",
      "    head=dict(\n",
      "        type='LinearReIDHead',\n",
      "        num_fcs=1,\n",
      "        in_channels=2048,\n",
      "        fc_channels=1024,\n",
      "        out_channels=128,\n",
      "        num_classes=380,\n",
      "        loss=dict(type='CrossEntropyLoss', loss_weight=1.0),\n",
      "        loss_pairwise=dict(type='TripletLoss', margin=0.3, loss_weight=1.0),\n",
      "        norm_cfg=dict(type='BN1d'),\n",
      "        act_cfg=dict(type='ReLU')),\n",
      "    init_cfg=dict(\n",
      "        type='Pretrained',\n",
      "        checkpoint=\n",
      "        'https://download.openmmlab.com/mmclassification/v0/resnet/resnet50_batch256_imagenet_20200708-cfb998bf.pth'\n",
      "    ))\n",
      "sampler = dict(\n",
      "    type='BalancedIdentityDistributedSampler',\n",
      "    batch_size=32,\n",
      "    num_instances=4,\n",
      "    shuffle=True)\n",
      "img_norm_cfg = dict(\n",
      "    mean=[123.675, 116.28, 103.53], std=[58.395, 57.12, 57.375], to_rgb=True)\n",
      "train_pipeline = [\n",
      "    dict(type='LoadImageFromFile', to_float32=True),\n",
      "    dict(type='Resize', size=(256, 128), interpolation='bilinear'),\n",
      "    dict(type='RandomFlip', flip_prob=0.5, direction='horizontal'),\n",
      "    dict(\n",
      "        type='Normalize',\n",
      "        mean=[123.675, 116.28, 103.53],\n",
      "        std=[58.395, 57.12, 57.375],\n",
      "        to_rgb=True),\n",
      "    dict(type='Collect', keys=['img', 'gt_label']),\n",
      "    dict(type='FormatBundle')\n",
      "]\n",
      "test_pipeline = [\n",
      "    dict(type='LoadImageFromFile'),\n",
      "    dict(type='Resize', size=(256, 128), interpolation='bilinear'),\n",
      "    dict(\n",
      "        type='Normalize',\n",
      "        mean=[123.675, 116.28, 103.53],\n",
      "        std=[58.395, 57.12, 57.375],\n",
      "        to_rgb=True),\n",
      "    dict(type='ImageToTensor', keys=['img']),\n",
      "    dict(type='Collect', keys=['img'], meta_keys=[])\n",
      "]\n",
      "data_type = 'Market1501Dataset'\n",
      "data_root = 'data/market1501/Market-1501-v15.09.15/'\n",
      "data = dict(\n",
      "    samples_per_gpu=32,\n",
      "    workers_per_gpu=2,\n",
      "    train=dict(\n",
      "        type='Market1501Dataset',\n",
      "        data_prefix='data/market1501/Market-1501-v15.09.15/bounding_box_train',\n",
      "        ann_file='data/market1501/Market-1501-v15.09.15/gtPepper/train.json',\n",
      "        pipeline=[\n",
      "            dict(type='LoadImageFromFile', to_float32=True),\n",
      "            dict(type='Resize', size=(256, 128), interpolation='bilinear'),\n",
      "            dict(type='RandomFlip', flip_prob=0.5, direction='horizontal'),\n",
      "            dict(\n",
      "                type='Normalize',\n",
      "                mean=[123.675, 116.28, 103.53],\n",
      "                std=[58.395, 57.12, 57.375],\n",
      "                to_rgb=True),\n",
      "            dict(type='Collect', keys=['img', 'gt_label']),\n",
      "            dict(type='FormatBundle')\n",
      "        ],\n",
      "        num_pids=751,\n",
      "        num_camids=6),\n",
      "    val=dict(\n",
      "        type='Market1501Dataset',\n",
      "        data_prefix=dict(\n",
      "            query='data/market1501/Market-1501-v15.09.15/query',\n",
      "            gallery='data/market1501/Market-1501-v15.09.15/bounding_box_test'),\n",
      "        ann_file=dict(\n",
      "            query='data/market1501/Market-1501-v15.09.15/gtPepper/query.json',\n",
      "            gallery=\n",
      "            'data/market1501/Market-1501-v15.09.15/gtPepper/gallery.json'),\n",
      "        pipeline=[\n",
      "            dict(type='LoadImageFromFile'),\n",
      "            dict(type='Resize', size=(256, 128), interpolation='bilinear'),\n",
      "            dict(\n",
      "                type='Normalize',\n",
      "                mean=[123.675, 116.28, 103.53],\n",
      "                std=[58.395, 57.12, 57.375],\n",
      "                to_rgb=True),\n",
      "            dict(type='ImageToTensor', keys=['img']),\n",
      "            dict(type='Collect', keys=['img'], meta_keys=[])\n",
      "        ],\n",
      "        num_pids=750,\n",
      "        num_camids=6),\n",
      "    test=dict(\n",
      "        type='Market1501Dataset',\n",
      "        data_prefix=dict(\n",
      "            query='data/market1501/Market-1501-v15.09.15/query',\n",
      "            gallery='data/market1501/Market-1501-v15.09.15/bounding_box_test'),\n",
      "        ann_file=dict(\n",
      "            query='data/market1501/Market-1501-v15.09.15/gtPepper/query.json',\n",
      "            gallery=\n",
      "            'data/market1501/Market-1501-v15.09.15/gtPepper/gallery.json'),\n",
      "        pipeline=[\n",
      "            dict(type='LoadImageFromFile'),\n",
      "            dict(type='Resize', size=(256, 128), interpolation='bilinear'),\n",
      "            dict(\n",
      "                type='Normalize',\n",
      "                mean=[123.675, 116.28, 103.53],\n",
      "                std=[58.395, 57.12, 57.375],\n",
      "                to_rgb=True),\n",
      "            dict(type='ImageToTensor', keys=['img']),\n",
      "            dict(type='Collect', keys=['img'], meta_keys=[])\n",
      "        ],\n",
      "        num_pids=750,\n",
      "        num_camids=6))\n",
      "optimizer = dict(type='SGD', lr=0.1, momentum=0.9, weight_decay=0.0001)\n",
      "optimizer_config = dict(grad_clip=None)\n",
      "lr_config = dict(\n",
      "    policy='step',\n",
      "    warmup='linear',\n",
      "    warmup_iters=1000,\n",
      "    warmup_ratio=0.001,\n",
      "    step=[20])\n",
      "checkpoint_config = dict(interval=100)\n",
      "runner = dict(type='EpochBasedRunner', max_epochs=200)\n",
      "evaluation = dict(interval=100, metric=['metric', 'CMC', 'mAP'])\n",
      "log_config = dict(interval=10, hooks=[dict(type='TextLoggerHook')])\n",
      "dist_params = dict(backend='nccl')\n",
      "log_level = 'INFO'\n",
      "load_from = None\n",
      "resume_from = None\n",
      "workflow = [('train', 1)]\n",
      "opencv_num_threads = 0\n",
      "mp_start_method = 'fork'\n",
      "find_unused_parameters = True\n",
      "\n"
     ]
    }
   ],
   "source": [
    "# load configs\n",
    "from mmcv import Config\n",
    "\n",
    "_root = 'configs'\n",
    "_model = 'resnet'\n",
    "_param = 'resnet50_b32'\n",
    "_dataset = 'market1501'\n",
    "_cfg_name = f'{_param}_{_dataset}.py'\n",
    "\n",
    "cfg_path = osp.join(_root, _model, _cfg_name)\n",
    "assert osp.exists(cfg_path), f\"{cfg_path} doesn't exist\"\n",
    "\n",
    "cfg = Config.fromfile(cfg_path)\n",
    "print(cfg.pretty_text)"
   ]
  },
  {
   "cell_type": "code",
   "execution_count": 7,
   "id": "1049852d-8ec9-4a00-b25d-53b28cf7a70c",
   "metadata": {},
   "outputs": [],
   "source": [
    "# initialize dataset\n",
    "from pepper.datasets import build_dataset, build_dataloader, replace_ImageToTensor\n",
    "\n",
    "# load validation as dataset\n",
    "val_samples_per_gpu = 1\n",
    "if val_samples_per_gpu > 1:\n",
    "    # Replace 'ImageToTensor' to 'DefaultFormatBundle'\n",
    "    cfg.data.val.pipeline = replace_ImageToTensor(cfg.data.val.pipeline)\n",
    "\n",
    "dataset = build_dataset(cfg.data.val, dict(eval_mode=True))\n",
    "\n",
    "dataloader = build_dataloader(\n",
    "    dataset,\n",
    "    samples_per_gpu=val_samples_per_gpu,\n",
    "    workers_per_gpu=cfg.data.workers_per_gpu,\n",
    "    dist=False,\n",
    "    shuffle=False,\n",
    "    round_up=True,\n",
    "    is_val=True,\n",
    ")"
   ]
  },
  {
   "cell_type": "code",
   "execution_count": 8,
   "id": "badd35f9-f0de-493b-880e-3dd2a45997c3",
   "metadata": {},
   "outputs": [
    {
     "name": "stdout",
     "output_type": "stream",
     "text": [
      "load checkpoint from local path: work_dirs/resnet50_b32_market1501/latest.pth\n",
      "done\n"
     ]
    }
   ],
   "source": [
    "# initialize model and load pretrained model\n",
    "from mmcv.runner.checkpoint import load_checkpoint\n",
    "from pepper.models import build_reid\n",
    "\n",
    "\n",
    "_pretrain_root = osp.join('work_dirs', f'{_param}_{_dataset}')\n",
    "assert osp.exists(_pretrain_root), f\"{_pretrain_root} doesn't exist\"\n",
    "\n",
    "_pretrain_pth = \"latest.pth\"\n",
    "_pretrain_path = osp.join(_pretrain_root, _pretrain_pth)\n",
    "assert osp.exists(_pretrain_path), f\"{_pretrain_path} doesn't exist\"\n",
    "\n",
    "cfg.model.head.num_classes = dataset.NUM_PIDS\n",
    "cfg.model.head.num_classes = 751\n",
    "if cfg.get(\"train_cfg\", False):\n",
    "    model = build_reid(\n",
    "        cfg.model,\n",
    "        train_cfg=cfg.train_cfg,\n",
    "        test_cfg=cfg.test_cfg,\n",
    "    )\n",
    "else:\n",
    "    model = build_reid(cfg.model)\n",
    "\n",
    "# model.init_weights()\n",
    "load_checkpoint(model, _pretrain_path)\n",
    "\n",
    "# print(model)\n",
    "\n",
    "model = model.cuda()\n",
    "\n",
    "print(\"done\")"
   ]
  },
  {
   "cell_type": "code",
   "execution_count": 9,
   "id": "d6a96dbc-df05-48b6-9440-861d8fe2999a",
   "metadata": {},
   "outputs": [
    {
     "name": "stdout",
     "output_type": "stream",
     "text": [
      "[>>>>>>>>>>>>>>>>>>>>>>>] 19281/19281, 161.7 task/s, elapsed: 119s, ETA:     0s"
     ]
    }
   ],
   "source": [
    "# compute features for validation dataset\n",
    "\n",
    "def get_features(_model, _dataloader):\n",
    "    prog_bar = mmcv.ProgressBar(len(_dataloader.dataset))\n",
    "    \n",
    "    feats = []\n",
    "    for i, data in enumerate(_dataloader):\n",
    "        img = data['img'].cuda()\n",
    "        with torch.no_grad():\n",
    "            feat = model(img=img, return_loss=False)\n",
    "\n",
    "        batch_size = len(feat)\n",
    "        feats.extend(feat)\n",
    "        \n",
    "        for _ in range(batch_size):\n",
    "            prog_bar.update()\n",
    "            \n",
    "    return feats\n",
    "\n",
    "model.eval()\n",
    "\n",
    "results = get_features(model, dataloader)"
   ]
  },
  {
   "cell_type": "code",
   "execution_count": 12,
   "id": "54f04668-74ed-4b54-92e9-082ab88cbe87",
   "metadata": {},
   "outputs": [
    {
     "name": "stdout",
     "output_type": "stream",
     "text": [
      "19281\n"
     ]
    }
   ],
   "source": [
    "print(len(results))"
   ]
  },
  {
   "cell_type": "code",
   "execution_count": 13,
   "id": "929d7118-f10e-49fe-8511-ad340b07159c",
   "metadata": {},
   "outputs": [
    {
     "name": "stdout",
     "output_type": "stream",
     "text": [
      "torch.Size([19281, 128])\n",
      "q_feat torch.Size([3368, 128])\n",
      "g_feat torch.Size([15913, 128])\n",
      "q_pids (3368,)\n",
      "g_pids (15913,)\n",
      "q_camids (3368,)\n",
      "g_camids (15913,)\n"
     ]
    }
   ],
   "source": [
    "# evaluate\n",
    "from pepper.core.evaluation import evaluate\n",
    "\n",
    "\n",
    "def compute_metrics(results, dataset):\n",
    "    \n",
    "    results = [result.data.cpu().squeeze() for result in results]\n",
    "    features = torch.stack(results)\n",
    "    pids = dataset.get_pids()\n",
    "    camids = dataset.get_camids()\n",
    "    \n",
    "    assert len(features) == len(dataset.data_infos)\n",
    "    q_feat = features[: dataset._num_query]\n",
    "    g_feat = features[dataset._num_query :]\n",
    "    q_pids = pids[: dataset._num_query]\n",
    "    g_pids = pids[dataset._num_query :]\n",
    "    q_camids = camids[: dataset._num_query]\n",
    "    g_camids = camids[dataset._num_query :]\n",
    "    \n",
    "    print(features.shape)\n",
    "    print('q_feat', q_feat.shape)\n",
    "    print('g_feat', g_feat.shape)\n",
    "    print('q_pids', q_pids.shape)\n",
    "    print('g_pids', g_pids.shape)\n",
    "    print('q_camids', q_camids.shape)\n",
    "    print('g_camids', g_camids.shape)\n",
    "\n",
    "    eval_results = evaluate(\n",
    "        q_feat=q_feat,\n",
    "        g_feat=g_feat,\n",
    "        q_pids=q_pids,\n",
    "        g_pids=g_pids,\n",
    "        q_camids=q_camids,\n",
    "        g_camids=g_camids,\n",
    "        metric=\"euclidean\",\n",
    "        ranks=[1, 5, 10, 20],\n",
    "        use_metric_cuhk03=False,\n",
    "        use_aqe=False,\n",
    "        qe_times=1,\n",
    "        qe_k=5,\n",
    "        alpha=3.0,\n",
    "        rerank=False,\n",
    "        k1=20,\n",
    "        k2=6,\n",
    "        lambda_value=0.3,\n",
    "        use_roc=False,\n",
    "    )\n",
    "    \n",
    "    return eval_results\n",
    "\n",
    "\n",
    "eval_results = compute_metrics(results, dataloader.dataset)"
   ]
  },
  {
   "cell_type": "code",
   "execution_count": 11,
   "id": "663a77b7-b312-4171-81d7-456c3f4549af",
   "metadata": {},
   "outputs": [
    {
     "data": {
      "text/plain": [
       "OrderedDict([('Rank-1', 0.8358076),\n",
       "             ('Rank-5', 0.93824226),\n",
       "             ('Rank-10', 0.9599169),\n",
       "             ('Rank-20', 0.976247),\n",
       "             ('CMC',\n",
       "              array([0.8358076 , 0.8937055 , 0.9171615 , 0.9314133 , 0.93824226,\n",
       "                     0.9447743 , 0.95071256, 0.95427555, 0.95665085, 0.9599169 ,\n",
       "                     0.96229213, 0.9652613 , 0.9679335 , 0.96941805, 0.9709026 ,\n",
       "                     0.97149646, 0.9726841 , 0.9738717 , 0.9747625 , 0.976247  ,\n",
       "                     0.97713774, 0.9780285 , 0.9786223 , 0.97921616, 0.97951305,\n",
       "                     0.97951305, 0.97981   , 0.9801069 , 0.98070073, 0.9809976 ,\n",
       "                     0.9809976 , 0.98188835, 0.9824822 , 0.98307604, 0.9833729 ,\n",
       "                     0.9833729 , 0.9833729 , 0.9836698 , 0.98396677, 0.98426366,\n",
       "                     0.98456055, 0.98456055, 0.9848575 , 0.9854513 , 0.9854513 ,\n",
       "                     0.9854513 , 0.9854513 , 0.98574823, 0.98663896, 0.98693585],\n",
       "                    dtype=float32)),\n",
       "             ('mAP', 0.62725717),\n",
       "             ('mINP', 0.24803035),\n",
       "             ('metric', 0.7315323948860168)])"
      ]
     },
     "execution_count": 11,
     "metadata": {},
     "output_type": "execute_result"
    }
   ],
   "source": [
    "eval_results"
   ]
  },
  {
   "cell_type": "code",
   "execution_count": null,
   "id": "8ab72625-8930-4857-ade5-582065c27abd",
   "metadata": {},
   "outputs": [],
   "source": []
  }
 ],
 "metadata": {
  "kernelspec": {
   "display_name": "Python 3 (ipykernel)",
   "language": "python",
   "name": "python3"
  },
  "language_info": {
   "codemirror_mode": {
    "name": "ipython",
    "version": 3
   },
   "file_extension": ".py",
   "mimetype": "text/x-python",
   "name": "python",
   "nbconvert_exporter": "python",
   "pygments_lexer": "ipython3",
   "version": "3.8.8"
  }
 },
 "nbformat": 4,
 "nbformat_minor": 5
}

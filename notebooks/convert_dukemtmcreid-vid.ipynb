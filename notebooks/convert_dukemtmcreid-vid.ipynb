{
 "cells": [
  {
   "cell_type": "markdown",
   "id": "49fefc80-802c-4603-9c87-8128aa0b806f",
   "metadata": {},
   "source": [
    "Check DukeMTMC-VideoReID dataset:\n",
    "\n",
    "Reference: [link](https://github.com/Yu-Wu/DukeMTMC-VideoReID)\n",
    "\n",
    "Statistics:\n",
    "- identities: 702\n",
    "    - train: 702\n",
    "    - test: 702\n",
    "    - distractors: 408 (inside gallery)\n",
    "- videos:\n",
    "    - train: 2196\n",
    "    - test: 2636\n",
    "- cameras: 8\n",
    "\n",
    "Directories:\n",
    "- `train`: 702 ids\n",
    "- `query`: 702 ids\n",
    "- `gallery`: 1110 ids\n",
    "\n",
    "Naming Rules: (example `0001_c1_f0000000.jpg`)\n",
    "- `c1` is the first camera (totally 8 cameras).\n",
    "- The last two digts, are the bbox number for DPM detector."
   ]
  },
  {
   "cell_type": "code",
   "execution_count": 5,
   "id": "50f67f8e-0cb9-4fa9-a3fc-e50f0400cf94",
   "metadata": {},
   "outputs": [
    {
     "name": "stdout",
     "output_type": "stream",
     "text": [
      "/home/ubuntu/dev/reid/pepper\n"
     ]
    }
   ],
   "source": [
    "%cd .."
   ]
  },
  {
   "cell_type": "code",
   "execution_count": 32,
   "id": "4473e37a-b06d-4116-bc16-eda7c70bd777",
   "metadata": {},
   "outputs": [],
   "source": [
    "# builtin\n",
    "from collections import defaultdict\n",
    "import glob\n",
    "import os.path as osp\n",
    "import re\n",
    "import warnings\n",
    "\n",
    "# third-party\n",
    "import matplotlib.pyplot as plt\n",
    "import numpy as np\n",
    "import pandas as pd\n",
    "from scipy.io import loadmat\n",
    "from tqdm import tqdm\n",
    "\n",
    "# mm\n",
    "import mmcv"
   ]
  },
  {
   "cell_type": "code",
   "execution_count": 6,
   "id": "a18e666e-ed95-4070-86b9-90e6f34a699e",
   "metadata": {},
   "outputs": [],
   "source": [
    "ROOT = 'data/dukemtmc-vidreid'\n",
    "\n",
    "# files:\n",
    "train_dir = osp.join(ROOT, 'DukeMTMC-VideoReID', 'train')\n",
    "query_dir = osp.join(ROOT, 'DukeMTMC-VideoReID', 'query')\n",
    "gallery_dir = osp.join(ROOT, 'DukeMTMC-VideoReID', 'gallery')\n",
    "\n",
    "assert osp.exists(train_dir)\n",
    "assert osp.exists(query_dir)\n",
    "assert osp.exists(gallery_dir)"
   ]
  },
  {
   "cell_type": "code",
   "execution_count": 23,
   "id": "991b8103-e547-4cd4-8d6a-7e9c3b62b322",
   "metadata": {},
   "outputs": [],
   "source": [
    "def process_dir(dir_path, relabel=False, min_seq_len=0):\n",
    "    \n",
    "    pdirs = glob.glob(osp.join(dir_path, \"*\"))  # avoid .DS_Store\n",
    "    print(\n",
    "        'Processing \"{}\" with {} person identities'.format(\n",
    "            dir_path, len(pdirs)\n",
    "        )\n",
    "    )\n",
    "    pid_container = set()\n",
    "    for pdir in pdirs:\n",
    "        pid = int(osp.basename(pdir))\n",
    "        pid_container.add(pid)\n",
    "    pid2label = {pid: label for label, pid in enumerate(pid_container)}\n",
    "    \n",
    "    tracklets = []\n",
    "    for pdir in tqdm(pdirs):\n",
    "        pid = int(osp.basename(pdir))\n",
    "        if relabel:\n",
    "            pid = pid2label[pid]\n",
    "        \n",
    "        tdirs = glob.glob(osp.join(pdir, \"*\"))\n",
    "        for tdir in tdirs:\n",
    "            raw_img_paths = glob.glob(osp.join(tdir, \"*.jpg\"))\n",
    "            num_imgs = len(raw_img_paths)\n",
    "\n",
    "            if num_imgs < min_seq_len:\n",
    "                continue\n",
    "\n",
    "            img_paths = []\n",
    "            for img_idx in range(num_imgs):\n",
    "                # some tracklet starts from 0002 instead of 0001\n",
    "                img_idx_name = \"F\" + str(img_idx + 1).zfill(4)\n",
    "                res = glob.glob(\n",
    "                    osp.join(tdir, \"*\" + img_idx_name + \"*.jpg\")\n",
    "                )\n",
    "                if len(res) == 0:\n",
    "                    warnings.warn(\n",
    "                        \"Index name {} in {} is missing, skip\".format(\n",
    "                            img_idx_name, tdir\n",
    "                        )\n",
    "                    )\n",
    "                    continue\n",
    "                img_paths.append(res[0])\n",
    "            img_name = osp.basename(img_paths[0])\n",
    "            if img_name.find(\"_\") == -1:\n",
    "                # old naming format: 0001C6F0099X30823.jpg\n",
    "                camid = int(img_name[5]) - 1\n",
    "            else:\n",
    "                # new naming format: 0001_C6_F0099_X30823.jpg\n",
    "                camid = int(img_name[6]) - 1\n",
    "            tracklets.append(\n",
    "                dict(\n",
    "                    pid=pid,\n",
    "                    camid=camid,\n",
    "                    img_paths=img_paths,\n",
    "                    tracklet_length=len(img_paths),\n",
    "                )\n",
    "            )\n",
    "\n",
    "    return tracklets"
   ]
  },
  {
   "cell_type": "code",
   "execution_count": 24,
   "id": "df837cde-fac3-49f8-ac94-733a7431591a",
   "metadata": {},
   "outputs": [
    {
     "name": "stdout",
     "output_type": "stream",
     "text": [
      "Processing \"data/dukemtmc-vidreid/DukeMTMC-VideoReID/train\" with 702 person identities\n"
     ]
    },
    {
     "name": "stderr",
     "output_type": "stream",
     "text": [
      "100%|███████████████████████████████████████████████████████| 702/702 [02:38<00:00,  4.43it/s]\n"
     ]
    }
   ],
   "source": [
    "train_data = process_dir(train_dir, relabel=False)"
   ]
  },
  {
   "cell_type": "code",
   "execution_count": 25,
   "id": "8752f2ad-ebfd-49f4-8a4c-073c9b80109c",
   "metadata": {},
   "outputs": [],
   "source": [
    "def count_data(data):\n",
    "    counts = defaultdict(int)\n",
    "    for d in data:\n",
    "        counts[d['pid']] += 1\n",
    "    return counts"
   ]
  },
  {
   "cell_type": "code",
   "execution_count": 26,
   "id": "c6e8ebf1-03de-48c4-896f-07910d696005",
   "metadata": {},
   "outputs": [
    {
     "name": "stdout",
     "output_type": "stream",
     "text": [
      "                0\n",
      "count  702.000000\n",
      "mean     3.128205\n",
      "std      0.838160\n",
      "min      2.000000\n",
      "25%      2.000000\n",
      "50%      3.000000\n",
      "75%      4.000000\n",
      "max      6.000000\n"
     ]
    }
   ],
   "source": [
    "df = pd.DataFrame.from_dict(count_data(train_data), orient='index')\n",
    "print(df.describe())"
   ]
  },
  {
   "cell_type": "code",
   "execution_count": 27,
   "id": "0755e5e6-996c-4723-a833-9c5f0c747303",
   "metadata": {},
   "outputs": [
    {
     "name": "stdout",
     "output_type": "stream",
     "text": [
      "168.33151183970855\n"
     ]
    }
   ],
   "source": [
    "total = 0\n",
    "for td in train_data:\n",
    "    total += td['tracklet_length']\n",
    "\n",
    "print(total / len(train_data))"
   ]
  },
  {
   "cell_type": "code",
   "execution_count": 28,
   "id": "8ef510dd-8a31-4bd9-a383-d3207e1578ad",
   "metadata": {},
   "outputs": [
    {
     "name": "stdout",
     "output_type": "stream",
     "text": [
      "Processing \"data/dukemtmc-vidreid/DukeMTMC-VideoReID/query\" with 702 person identities\n"
     ]
    },
    {
     "name": "stderr",
     "output_type": "stream",
     "text": [
      "100%|███████████████████████████████████████████████████████| 702/702 [00:32<00:00, 21.70it/s]\n"
     ]
    }
   ],
   "source": [
    "query_data = process_dir(query_dir, relabel=False)"
   ]
  },
  {
   "cell_type": "code",
   "execution_count": 30,
   "id": "843bec5d-823b-48fc-98f4-daf9cfbc6646",
   "metadata": {},
   "outputs": [
    {
     "name": "stdout",
     "output_type": "stream",
     "text": [
      "           0\n",
      "count  702.0\n",
      "mean     1.0\n",
      "std      0.0\n",
      "min      1.0\n",
      "25%      1.0\n",
      "50%      1.0\n",
      "75%      1.0\n",
      "max      1.0\n"
     ]
    }
   ],
   "source": [
    "df = pd.DataFrame.from_dict(count_data(query_data), orient='index')\n",
    "print(df.describe())"
   ]
  },
  {
   "cell_type": "code",
   "execution_count": 31,
   "id": "706e5639-cb69-41ab-94fd-a6897d88ca3e",
   "metadata": {},
   "outputs": [
    {
     "name": "stdout",
     "output_type": "stream",
     "text": [
      "159.32763532763533\n"
     ]
    }
   ],
   "source": [
    "total = 0\n",
    "for td in query_data:\n",
    "    total += td['tracklet_length']\n",
    "\n",
    "print(total / len(query_data))"
   ]
  },
  {
   "cell_type": "code",
   "execution_count": 33,
   "id": "471eb6fc-88f2-4452-8ee3-f7d96b22979c",
   "metadata": {},
   "outputs": [
    {
     "name": "stdout",
     "output_type": "stream",
     "text": [
      "Processing \"data/dukemtmc-vidreid/DukeMTMC-VideoReID/gallery\" with 1110 person identities\n"
     ]
    },
    {
     "name": "stderr",
     "output_type": "stream",
     "text": [
      " 83%|████████████████████████████████████████████▊         | 920/1110 [03:25<00:28,  6.75it/s]/tmp/ipykernel_4139342/3372169609.py:37: UserWarning: Index name F0001 in data/dukemtmc-vidreid/DukeMTMC-VideoReID/gallery/0002/2197 is missing, skip\n",
      "  warnings.warn(\n",
      "100%|█████████████████████████████████████████████████████| 1110/1110 [05:02<00:00,  3.67it/s]\n"
     ]
    }
   ],
   "source": [
    "gallery_data = process_dir(gallery_dir, relabel=False)"
   ]
  },
  {
   "cell_type": "code",
   "execution_count": 34,
   "id": "c3e9071b-ff42-4914-a046-375688490f8d",
   "metadata": {},
   "outputs": [
    {
     "name": "stdout",
     "output_type": "stream",
     "text": [
      "                 0\n",
      "count  1110.000000\n",
      "mean      2.374775\n",
      "std       1.242505\n",
      "min       1.000000\n",
      "25%       1.000000\n",
      "50%       2.000000\n",
      "75%       3.000000\n",
      "max       5.000000\n"
     ]
    }
   ],
   "source": [
    "df = pd.DataFrame.from_dict(count_data(gallery_data), orient='index')\n",
    "print(df.describe())"
   ]
  },
  {
   "cell_type": "code",
   "execution_count": 35,
   "id": "9f948b7c-fabb-4e32-8da7-e728ff4d87a3",
   "metadata": {},
   "outputs": [
    {
     "name": "stdout",
     "output_type": "stream",
     "text": [
      "169.10584218512898\n"
     ]
    }
   ],
   "source": [
    "total = 0\n",
    "for td in gallery_data:\n",
    "    total += td['tracklet_length']\n",
    "\n",
    "print(total / len(gallery_data))"
   ]
  },
  {
   "cell_type": "code",
   "execution_count": null,
   "id": "928c37e3-e1eb-4bfb-8f0d-2ddbde2162bf",
   "metadata": {},
   "outputs": [],
   "source": []
  }
 ],
 "metadata": {
  "kernelspec": {
   "display_name": "Python 3 (ipykernel)",
   "language": "python",
   "name": "python3"
  },
  "language_info": {
   "codemirror_mode": {
    "name": "ipython",
    "version": 3
   },
   "file_extension": ".py",
   "mimetype": "text/x-python",
   "name": "python",
   "nbconvert_exporter": "python",
   "pygments_lexer": "ipython3",
   "version": "3.8.8"
  }
 },
 "nbformat": 4,
 "nbformat_minor": 5
}

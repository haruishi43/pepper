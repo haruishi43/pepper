{
 "cells": [
  {
   "cell_type": "markdown",
   "id": "80cc5993-b693-41b4-9c7c-1d26de0c1e7a",
   "metadata": {},
   "source": [
    "Mini Mars\n",
    "\n",
    "Reference: [dataset link](http://zheng-lab.cecs.anu.edu.au/Project/project_mars.html)\n",
    "\n",
    "What's included in the directories?\n",
    "- `bbox_train`: 625 ids and 8298 tracklets\n",
    "- `bbox_test`: 636 ids and 12180 tracklets"
   ]
  },
  {
   "cell_type": "code",
   "execution_count": 1,
   "id": "dffdf842-fa4d-4c29-90e4-c2cd5fd5bd43",
   "metadata": {},
   "outputs": [
    {
     "name": "stdout",
     "output_type": "stream",
     "text": [
      "/home/ubuntu/dev/reid/pepper\n"
     ]
    }
   ],
   "source": [
    "%cd .."
   ]
  },
  {
   "cell_type": "code",
   "execution_count": 7,
   "id": "dd52c5ac-758d-416d-b03f-babe96bd5619",
   "metadata": {},
   "outputs": [],
   "source": [
    "# builtin\n",
    "from collections import Counter, defaultdict\n",
    "import json\n",
    "import os.path as osp\n",
    "import re\n",
    "from shutil import copy2 as copy\n",
    "\n",
    "# third-party\n",
    "import matplotlib.pyplot as plt\n",
    "import numpy as np\n",
    "import pandas as pd\n",
    "from PIL import Image\n",
    "\n",
    "# mm\n",
    "import mmcv"
   ]
  },
  {
   "cell_type": "code",
   "execution_count": 5,
   "id": "1446034d-d903-445f-b6fa-25992e710824",
   "metadata": {},
   "outputs": [],
   "source": [
    "orig_root = \"data/mars\"\n",
    "\n",
    "orig_train_dir = osp.join(orig_root, \"bbox_train\")\n",
    "orig_test_dir = osp.join(orig_root, \"bbox_test\")\n",
    "orig_gtPepper_dir = osp.join(orig_root, \"gtPepper\")\n",
    "\n",
    "assert osp.exists(orig_train_dir)\n",
    "assert osp.exists(orig_test_dir)\n",
    "assert osp.exists(orig_gtPepper_dir)"
   ]
  },
  {
   "cell_type": "code",
   "execution_count": 6,
   "id": "9533c0f3-2064-48b5-bc8d-4cf8a34a5e4c",
   "metadata": {},
   "outputs": [],
   "source": [
    "mini_root = \"tests/data/mini_mars\"\n",
    "\n",
    "mini_train_dir = osp.join(mini_root, \"bbox_train\")\n",
    "mini_test_dir = osp.join(mini_root, \"bbox_test\")\n",
    "mini_gtPepper_dir = osp.join(mini_root, \"gtPepper\")\n",
    "\n",
    "mmcv.mkdir_or_exist(mini_train_dir)\n",
    "mmcv.mkdir_or_exist(mini_test_dir)\n",
    "mmcv.mkdir_or_exist(mini_gtPepper_dir)"
   ]
  },
  {
   "cell_type": "code",
   "execution_count": 17,
   "id": "66f64d19-0c5e-4bfa-b5f6-80db9903df57",
   "metadata": {},
   "outputs": [],
   "source": [
    "train_json = osp.join(orig_gtPepper_dir, \"train.json\")\n",
    "query_json = osp.join(orig_gtPepper_dir, \"query.json\")\n",
    "gallery_json = osp.join(orig_gtPepper_dir, \"gallery.json\")\n",
    "\n",
    "with open(train_json, 'r') as f:\n",
    "    train_data = json.load(f)\n",
    "    \n",
    "with open(query_json, 'r') as f:\n",
    "    query_data = json.load(f)\n",
    "    \n",
    "with open(gallery_json, 'r') as f:\n",
    "    gallery_data = json.load(f)"
   ]
  },
  {
   "cell_type": "code",
   "execution_count": 18,
   "id": "7ee0f33f-40bc-495a-9af1-d77a9d3a0b42",
   "metadata": {},
   "outputs": [],
   "source": [
    "# hard-coded variables for mini-mars\n",
    "num_ids = 16\n",
    "num_inst = 2\n",
    "num_frames = 8"
   ]
  },
  {
   "cell_type": "code",
   "execution_count": 32,
   "id": "4095b8a9-b119-44da-a2ad-6ad1791a88ee",
   "metadata": {},
   "outputs": [
    {
     "name": "stdout",
     "output_type": "stream",
     "text": [
      "8298\n",
      "8212\n",
      "[1, 2, 3, 4, 6, 7, 9, 10, 11, 12, 13, 14, 15, 16, 17, 18]\n",
      "Counter({1: 2, 2: 2, 3: 2, 4: 2, 6: 2, 7: 2, 9: 2, 10: 2, 11: 2, 12: 2, 13: 2, 14: 2, 15: 2, 16: 2, 17: 2, 18: 2})\n",
      "32\n"
     ]
    }
   ],
   "source": [
    "# train: filter by # of frames\n",
    "\n",
    "filtered_train_data = []\n",
    "for td in train_data:\n",
    "    frames = td['tracklet_length']\n",
    "    if frames >= num_frames:\n",
    "        filtered_train_data.append(td)\n",
    "\n",
    "print(len(train_data))\n",
    "print(len(filtered_train_data))\n",
    "\n",
    "counter = Counter()\n",
    "for td in filtered_train_data:\n",
    "    pid = td['pid']\n",
    "    counter[pid] += 1\n",
    "\n",
    "pids = [k for k, v in counter.items() if v > 1]\n",
    "use_pids = pids[1:num_ids+1]\n",
    "print(use_pids)\n",
    "\n",
    "counter = Counter()\n",
    "new_train_data = []\n",
    "for data in filtered_train_data:\n",
    "    pid = data['pid']\n",
    "    if pid in use_pids:\n",
    "        if counter[pid] < 2:\n",
    "            new_train_data.append(data)\n",
    "            counter[pid] += 1\n",
    "        if sum(counter.values()) == 32:\n",
    "            break\n",
    "\n",
    "print(counter)\n",
    "print(sum(counter.values()))"
   ]
  },
  {
   "cell_type": "code",
   "execution_count": 36,
   "id": "61436b16-72d2-4b10-b7d6-c9056dcbfbce",
   "metadata": {},
   "outputs": [
    {
     "name": "stdout",
     "output_type": "stream",
     "text": [
      ">>> 1\n",
      ">>> 1\n",
      ">>> 2\n",
      ">>> 2\n",
      ">>> 3\n",
      ">>> 3\n",
      ">>> 4\n",
      ">>> 4\n",
      ">>> 6\n",
      ">>> 6\n",
      ">>> 7\n",
      ">>> 7\n",
      ">>> 9\n",
      ">>> 9\n",
      ">>> 10\n",
      ">>> 10\n",
      ">>> 11\n",
      ">>> 11\n",
      ">>> 12\n",
      ">>> 12\n",
      ">>> 13\n",
      ">>> 13\n",
      ">>> 14\n",
      ">>> 14\n",
      ">>> 15\n",
      ">>> 15\n",
      ">>> 16\n",
      ">>> 16\n",
      ">>> 17\n",
      ">>> 17\n",
      ">>> 18\n",
      ">>> 18\n"
     ]
    }
   ],
   "source": [
    "for data in new_train_data:\n",
    "    print(\">>>\", data['pid'])\n",
    "    for img_path in data['img_paths']:\n",
    "        _path = osp.dirname(img_path)\n",
    "        mmcv.mkdir_or_exist(osp.join(mini_root, _path))\n",
    "        copy(osp.join(orig_root, img_path), osp.join(mini_root, img_path))"
   ]
  },
  {
   "cell_type": "code",
   "execution_count": 38,
   "id": "f5863933-b816-4973-a3c9-8680fa0e87ad",
   "metadata": {},
   "outputs": [],
   "source": [
    "# save json\n",
    "mini_train_json = osp.join(mini_gtPepper_dir, 'train.json')\n",
    "with open(mini_train_json, 'w') as f:\n",
    "    json.dump(new_train_data, f, indent=4)"
   ]
  },
  {
   "cell_type": "code",
   "execution_count": 46,
   "id": "b1208ad2-ea6f-4eda-a412-418d91f21695",
   "metadata": {},
   "outputs": [
    {
     "name": "stdout",
     "output_type": "stream",
     "text": [
      "1980\n",
      "1949\n",
      "[4, 8, 16, 18, 22, 24, 26, 28, 32, 34, 36, 44, 46, 48, 50, 52]\n",
      "Counter({4: 2, 8: 2, 16: 2, 18: 2, 22: 2, 24: 2, 26: 2, 28: 2, 32: 2, 34: 2, 36: 2, 44: 2, 46: 2, 48: 2, 50: 2, 52: 2})\n",
      "32\n",
      "Counter({4: 2, 8: 2, 16: 2, 18: 2, 22: 2, 24: 2, 26: 2, 28: 2, 32: 2, 34: 2, 36: 2, 44: 2, 46: 2, 48: 2, 50: 2, 52: 2})\n",
      "32\n"
     ]
    }
   ],
   "source": [
    "# query: filter by # of frames\n",
    "\n",
    "filtered_query_data = []\n",
    "for td in query_data:\n",
    "    frames = td['tracklet_length']\n",
    "    if frames >= num_frames:\n",
    "        filtered_query_data.append(td)\n",
    "\n",
    "print(len(query_data))\n",
    "print(len(filtered_query_data))\n",
    "\n",
    "filtered_gallery_data = []\n",
    "for td in gallery_data:\n",
    "    frames = td['tracklet_length']\n",
    "    if frames >= num_frames:\n",
    "        filtered_gallery_data.append(td)\n",
    "\n",
    "query_counter = Counter()\n",
    "for td in filtered_query_data:\n",
    "    pid = td['pid']\n",
    "    query_counter[pid] += 1\n",
    "    \n",
    "gallery_counter = Counter()\n",
    "for td in filtered_gallery_data:\n",
    "    pid = td['pid']\n",
    "    gallery_counter[pid] += 1\n",
    "\n",
    "    \n",
    "pids = []\n",
    "for q_id, q_cnt in query_counter.items():\n",
    "    if q_id in list(gallery_counter.keys()):\n",
    "        if q_cnt > 1 and gallery_counter[q_id] > 1:\n",
    "            pids.append(q_id)\n",
    "\n",
    "use_pids = pids[1:num_ids+1]\n",
    "print(use_pids)\n",
    "\n",
    "counter = Counter()\n",
    "new_query_data = []\n",
    "for data in filtered_query_data:\n",
    "    pid = data['pid']\n",
    "    if pid in use_pids:\n",
    "        if counter[pid] < 2:\n",
    "            new_query_data.append(data)\n",
    "            counter[pid] += 1\n",
    "        if sum(counter.values()) == 32:\n",
    "            break\n",
    "\n",
    "print(counter)\n",
    "print(sum(counter.values()))\n",
    "            \n",
    "counter = Counter()\n",
    "new_gallery_data = []\n",
    "for data in filtered_gallery_data:\n",
    "    pid = data['pid']\n",
    "    if pid in use_pids:\n",
    "        if counter[pid] < 2:\n",
    "            new_gallery_data.append(data)\n",
    "            counter[pid] += 1\n",
    "        if sum(counter.values()) == 32:\n",
    "            break\n",
    "\n",
    "print(counter)\n",
    "print(sum(counter.values()))"
   ]
  },
  {
   "cell_type": "code",
   "execution_count": 47,
   "id": "f458b348-b0ba-4680-ae7b-3353b36bcd7e",
   "metadata": {},
   "outputs": [
    {
     "name": "stdout",
     "output_type": "stream",
     "text": [
      ">>> 4\n",
      ">>> 4\n",
      ">>> 8\n",
      ">>> 8\n",
      ">>> 16\n",
      ">>> 16\n",
      ">>> 18\n",
      ">>> 18\n",
      ">>> 22\n",
      ">>> 22\n",
      ">>> 24\n",
      ">>> 24\n",
      ">>> 26\n",
      ">>> 26\n",
      ">>> 28\n",
      ">>> 28\n",
      ">>> 32\n",
      ">>> 32\n",
      ">>> 34\n",
      ">>> 34\n",
      ">>> 36\n",
      ">>> 36\n",
      ">>> 44\n",
      ">>> 44\n",
      ">>> 46\n",
      ">>> 46\n",
      ">>> 48\n",
      ">>> 48\n",
      ">>> 50\n",
      ">>> 50\n",
      ">>> 52\n",
      ">>> 52\n",
      ">>> 4\n",
      ">>> 4\n",
      ">>> 8\n",
      ">>> 8\n",
      ">>> 16\n",
      ">>> 16\n",
      ">>> 18\n",
      ">>> 18\n",
      ">>> 22\n",
      ">>> 22\n",
      ">>> 24\n",
      ">>> 24\n",
      ">>> 26\n",
      ">>> 26\n",
      ">>> 28\n",
      ">>> 28\n",
      ">>> 32\n",
      ">>> 32\n",
      ">>> 34\n",
      ">>> 34\n",
      ">>> 36\n",
      ">>> 36\n",
      ">>> 44\n",
      ">>> 44\n",
      ">>> 46\n",
      ">>> 46\n",
      ">>> 48\n",
      ">>> 48\n",
      ">>> 50\n",
      ">>> 50\n",
      ">>> 52\n",
      ">>> 52\n"
     ]
    }
   ],
   "source": [
    "for data in new_query_data:\n",
    "    print(\">>>\", data['pid'])\n",
    "    for img_path in data['img_paths']:\n",
    "        _path = osp.dirname(img_path)\n",
    "        mmcv.mkdir_or_exist(osp.join(mini_root, _path))\n",
    "        copy(osp.join(orig_root, img_path), osp.join(mini_root, img_path))\n",
    "        \n",
    "for data in new_gallery_data:\n",
    "    print(\">>>\", data['pid'])\n",
    "    for img_path in data['img_paths']:\n",
    "        _path = osp.dirname(img_path)\n",
    "        mmcv.mkdir_or_exist(osp.join(mini_root, _path))\n",
    "        copy(osp.join(orig_root, img_path), osp.join(mini_root, img_path))"
   ]
  },
  {
   "cell_type": "code",
   "execution_count": 48,
   "id": "65c35853-1e02-4e35-8099-fd40e9c2aa7c",
   "metadata": {},
   "outputs": [],
   "source": [
    "# save json\n",
    "mini_query_json = osp.join(mini_gtPepper_dir, 'query.json')\n",
    "with open(mini_query_json, 'w') as f:\n",
    "    json.dump(new_query_data, f, indent=4)\n",
    "    \n",
    "mini_gallery_json = osp.join(mini_gtPepper_dir, 'gallery.json')\n",
    "with open(mini_gallery_json, 'w') as f:\n",
    "    json.dump(new_gallery_data, f, indent=4)"
   ]
  },
  {
   "cell_type": "code",
   "execution_count": null,
   "id": "0ea13f0d-5d48-4843-8442-5d07e134647e",
   "metadata": {},
   "outputs": [],
   "source": []
  }
 ],
 "metadata": {
  "kernelspec": {
   "display_name": "Python 3 (ipykernel)",
   "language": "python",
   "name": "python3"
  },
  "language_info": {
   "codemirror_mode": {
    "name": "ipython",
    "version": 3
   },
   "file_extension": ".py",
   "mimetype": "text/x-python",
   "name": "python",
   "nbconvert_exporter": "python",
   "pygments_lexer": "ipython3",
   "version": "3.8.8"
  }
 },
 "nbformat": 4,
 "nbformat_minor": 5
}

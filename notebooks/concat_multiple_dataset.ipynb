{
 "cells": [
  {
   "cell_type": "code",
   "execution_count": 1,
   "id": "ec56ee9d-a868-4116-85d7-5675a286f68c",
   "metadata": {},
   "outputs": [
    {
     "name": "stdout",
     "output_type": "stream",
     "text": [
      "/home/ubuntu/dev/reid/pepper\n"
     ]
    }
   ],
   "source": [
    "%cd .."
   ]
  },
  {
   "cell_type": "markdown",
   "id": "beec5585-1bc2-4af5-a8db-d1c1faf57bcb",
   "metadata": {},
   "source": [
    "Check if `ConcatDataset` is working correctly."
   ]
  },
  {
   "cell_type": "code",
   "execution_count": null,
   "id": "d8df050d-580a-4e95-bdde-6c9841a33b3e",
   "metadata": {},
   "outputs": [],
   "source": []
  }
 ],
 "metadata": {
  "kernelspec": {
   "display_name": "Python 3 (ipykernel)",
   "language": "python",
   "name": "python3"
  },
  "language_info": {
   "codemirror_mode": {
    "name": "ipython",
    "version": 3
   },
   "file_extension": ".py",
   "mimetype": "text/x-python",
   "name": "python",
   "nbconvert_exporter": "python",
   "pygments_lexer": "ipython3",
   "version": "3.8.8"
  }
 },
 "nbformat": 4,
 "nbformat_minor": 5
}

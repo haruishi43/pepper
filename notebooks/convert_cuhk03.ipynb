{
 "cells": [
  {
   "cell_type": "markdown",
   "id": "1b94ce61-1f9f-46de-8757-bac0248e682f",
   "metadata": {},
   "source": [
    "Check cuhk03 dataset:\n",
    "\n",
    "# NOTE: we don't need this dataset for a while\n",
    "\n",
    "Reference: [link](http://www.ee.cuhk.edu.hk/~xgwang/CUHK_identification.html)\n",
    "\n",
    "\n",
    "Splits:\n",
    "- classic: 1367/100 split\n",
    "- new: 767/700 split (need to download from [link](https://github.com/zhunzhong07/person-re-ranking/tree/master/evaluation/data/CUHK03))\n",
    "- There are 20 splits\n",
    "\n",
    "Statistics:\n",
    "- 1360 identities\n",
    "- 13164 images\n",
    "- 6 cameras\n",
    "\n",
    "There is a \"new\" protocal that extends the dataset.\n",
    "\n",
    "Arguments:\n",
    "- labeled vs detected\n",
    "    - manually labeled vs automatic detection (DPM)\n",
    "- split number (20)"
   ]
  },
  {
   "cell_type": "code",
   "execution_count": 1,
   "id": "816c3f29-33a6-483f-921c-180eb4f7a26e",
   "metadata": {},
   "outputs": [
    {
     "name": "stdout",
     "output_type": "stream",
     "text": [
      "/home/ubuntu/dev/reid/pepper\n"
     ]
    }
   ],
   "source": [
    "%cd .."
   ]
  },
  {
   "cell_type": "code",
   "execution_count": 2,
   "id": "de1c0c28-2e2b-4133-992d-242bcdd5abeb",
   "metadata": {},
   "outputs": [],
   "source": [
    "# builtin\n",
    "from collections import defaultdict\n",
    "import os.path as osp\n",
    "import re\n",
    "\n",
    "# third-party\n",
    "import matplotlib.pyplot as plt\n",
    "import numpy as np\n",
    "import pandas as pd\n",
    "from PIL import Image\n",
    "\n",
    "import h5py\n",
    "from imageio import imsave\n",
    "from scipy.io import loadmat\n",
    "\n",
    "# mm\n",
    "import mmcv"
   ]
  },
  {
   "cell_type": "code",
   "execution_count": 4,
   "id": "b335e7b0-5f1e-4d1e-8b7d-655e33dca796",
   "metadata": {},
   "outputs": [],
   "source": [
    "ROOT = 'data/cuhk03'\n",
    "\n",
    "# image file (in MATLAB format)\n",
    "data_dir = osp.join(ROOT, 'cuhk03_release')\n",
    "raw_mat_path = osp.join(data_dir, 'cuhk-03.mat')\n",
    "\n",
    "# new splits\n",
    "split_new_det_mat_path = osp.join(ROOT, 'cuhk03_new_protocol_config_detected.mat')\n",
    "split_new_lab_mat_path = osp.join(ROOT, 'cuhk03_new_protocol_config_labeled.mat')\n",
    "\n",
    "assert osp.exists(data_dir)\n",
    "assert osp.exists(raw_mat_path)\n",
    "assert osp.exists(split_new_det_mat_path)\n",
    "assert osp.exists(split_new_lab_mat_path)\n",
    "\n",
    "# save paths! (don't care for now)\n",
    "# new save path (not going to use here...)\n",
    "# imgs_detected_dir = osp.join(ROOT, \"images_detected\")\n",
    "# imgs_labeled_dir = osp.join(ROOT, \"images_labeled\")\n",
    "\n",
    "# # classic save splits as json\n",
    "# split_classic_det_json_path = osp.join(ROOT, \"splits_classic_detected.json\")\n",
    "# split_classic_lab_json_path = osp.join(ROOT, \"splits_classic_labeled.json\")\n",
    "\n",
    "# # new save splits as json\n",
    "# split_new_det_json_path = osp.join(ROOT, \"splits_new_detected.json\")\n",
    "# split_new_lab_json_path = osp.join(ROOT, \"splits_new_labeled.json\")"
   ]
  },
  {
   "cell_type": "code",
   "execution_count": 6,
   "id": "8d5ad2bb-dbb7-49a8-a893-366243bb4bd1",
   "metadata": {},
   "outputs": [],
   "source": [
    "def process_images(img_refs, campid, pid, save_dir):\n",
    "    img_paths = []  # Note: some persons only have images for one view\n",
    "    for imgid, img_ref in enumerate(img_refs):\n",
    "        img = _deref(img_ref)\n",
    "        if img.size == 0 or img.ndim < 3:\n",
    "            continue  # skip empty cell\n",
    "        # images are saved with the following format, index-1 (ensure uniqueness)\n",
    "        # campid: index of camera pair (1-5)\n",
    "        # pid: index of person in 'campid'-th camera pair\n",
    "        # viewid: index of view, {1, 2}\n",
    "        # imgid: index of image, (1-10)\n",
    "        viewid = 1 if imgid < 5 else 2\n",
    "        img_name = \"{:01d}_{:03d}_{:01d}_{:02d}.png\".format(\n",
    "            campid + 1, pid + 1, viewid, imgid + 1\n",
    "        )\n",
    "        img_path = osp.join(save_dir, img_name)\n",
    "        if not osp.isfile(img_path):\n",
    "            imsave(img_path, img)\n",
    "        img_paths.append(img_path)\n",
    "    return img_paths\n",
    "\n",
    "def extract_img(image_type, imgs_dir):\n",
    "    print(\"Processing {} images ...\".format(image_type))\n",
    "    meta_data = []\n",
    "    for campid, camp_ref in enumerate(mat[image_type][0]):\n",
    "        camp = _deref(camp_ref)\n",
    "        num_pids = camp.shape[0]\n",
    "        for pid in range(num_pids):\n",
    "            img_paths = process_images(\n",
    "                camp[pid, :], campid, pid, imgs_dir\n",
    "            )\n",
    "            assert (\n",
    "                len(img_paths) > 0\n",
    "            ), \"campid{}-pid{} has no images\".format(campid, pid)\n",
    "            meta_data.append((campid + 1, pid + 1, img_paths))\n",
    "        print(\n",
    "            \"- done camera pair {} with {} identities\".format(\n",
    "                campid + 1, num_pids\n",
    "            )\n",
    "        )\n",
    "    return meta_data"
   ]
  },
  {
   "cell_type": "code",
   "execution_count": 5,
   "id": "a8fe71ad-04a6-42ad-a456-6a32ac635c95",
   "metadata": {},
   "outputs": [],
   "source": [
    "mat = h5py.File(raw_mat_path, \"r\")"
   ]
  },
  {
   "cell_type": "code",
   "execution_count": 7,
   "id": "1d71652e-2ec3-415a-94b6-2b0ccec77b4c",
   "metadata": {},
   "outputs": [
    {
     "name": "stdout",
     "output_type": "stream",
     "text": [
      "Processing detected images ...\n"
     ]
    },
    {
     "ename": "NameError",
     "evalue": "name 'self' is not defined",
     "output_type": "error",
     "traceback": [
      "\u001b[0;31m---------------------------------------------------------------------------\u001b[0m",
      "\u001b[0;31mNameError\u001b[0m                                 Traceback (most recent call last)",
      "\u001b[0;32m/tmp/ipykernel_492055/3458902841.py\u001b[0m in \u001b[0;36m<module>\u001b[0;34m\u001b[0m\n\u001b[0;32m----> 1\u001b[0;31m \u001b[0mmeta_detected\u001b[0m \u001b[0;34m=\u001b[0m \u001b[0mextract_img\u001b[0m\u001b[0;34m(\u001b[0m\u001b[0;34m\"detected\"\u001b[0m\u001b[0;34m)\u001b[0m\u001b[0;34m\u001b[0m\u001b[0;34m\u001b[0m\u001b[0m\n\u001b[0m\u001b[1;32m      2\u001b[0m \u001b[0mmeta_labeled\u001b[0m \u001b[0;34m=\u001b[0m \u001b[0mextract_img\u001b[0m\u001b[0;34m(\u001b[0m\u001b[0;34m\"labeled\"\u001b[0m\u001b[0;34m)\u001b[0m\u001b[0;34m\u001b[0m\u001b[0;34m\u001b[0m\u001b[0m\n",
      "\u001b[0;32m/tmp/ipykernel_492055/898615983.py\u001b[0m in \u001b[0;36mextract_img\u001b[0;34m(image_type)\u001b[0m\n\u001b[1;32m      3\u001b[0m     \u001b[0mmeta_data\u001b[0m \u001b[0;34m=\u001b[0m \u001b[0;34m[\u001b[0m\u001b[0;34m]\u001b[0m\u001b[0;34m\u001b[0m\u001b[0;34m\u001b[0m\u001b[0m\n\u001b[1;32m      4\u001b[0m     imgs_dir = (\n\u001b[0;32m----> 5\u001b[0;31m         \u001b[0mself\u001b[0m\u001b[0;34m.\u001b[0m\u001b[0mimgs_detected_dir\u001b[0m\u001b[0;34m\u001b[0m\u001b[0;34m\u001b[0m\u001b[0m\n\u001b[0m\u001b[1;32m      6\u001b[0m         \u001b[0;32mif\u001b[0m \u001b[0mimage_type\u001b[0m \u001b[0;34m==\u001b[0m \u001b[0;34m\"detected\"\u001b[0m\u001b[0;34m\u001b[0m\u001b[0;34m\u001b[0m\u001b[0m\n\u001b[1;32m      7\u001b[0m         \u001b[0;32melse\u001b[0m \u001b[0mself\u001b[0m\u001b[0;34m.\u001b[0m\u001b[0mimgs_labeled_dir\u001b[0m\u001b[0;34m\u001b[0m\u001b[0;34m\u001b[0m\u001b[0m\n",
      "\u001b[0;31mNameError\u001b[0m: name 'self' is not defined"
     ]
    }
   ],
   "source": [
    "meta_detected = extract_img(\"detected\", \"images_dir)\n",
    "meta_labeled = extract_img(\"labeled\")"
   ]
  },
  {
   "cell_type": "code",
   "execution_count": null,
   "id": "0d2d632e-4905-44f9-a463-095cac9f2496",
   "metadata": {},
   "outputs": [],
   "source": []
  }
 ],
 "metadata": {
  "kernelspec": {
   "display_name": "Python 3 (ipykernel)",
   "language": "python",
   "name": "python3"
  },
  "language_info": {
   "codemirror_mode": {
    "name": "ipython",
    "version": 3
   },
   "file_extension": ".py",
   "mimetype": "text/x-python",
   "name": "python",
   "nbconvert_exporter": "python",
   "pygments_lexer": "ipython3",
   "version": "3.8.8"
  }
 },
 "nbformat": 4,
 "nbformat_minor": 5
}

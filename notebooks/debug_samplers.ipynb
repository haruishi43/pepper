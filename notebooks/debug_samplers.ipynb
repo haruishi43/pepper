{
 "cells": [
  {
   "cell_type": "code",
   "execution_count": 1,
   "id": "6d0e603b-9609-496e-84fc-bc2d071d056c",
   "metadata": {},
   "outputs": [
    {
     "name": "stdout",
     "output_type": "stream",
     "text": [
      "/home/ubuntu/dev/pepper\n"
     ]
    }
   ],
   "source": [
    "%cd .."
   ]
  },
  {
   "cell_type": "code",
   "execution_count": 2,
   "id": "eb83aa1b-2397-4fd2-9fd9-9cd5547f5d8f",
   "metadata": {},
   "outputs": [],
   "source": [
    "from copy import deepcopy\n",
    "\n",
    "import torch\n",
    "import numpy as np\n",
    "\n",
    "import mmcv\n",
    "from mmcv import Config"
   ]
  },
  {
   "cell_type": "code",
   "execution_count": 3,
   "id": "e2a7897d-a920-4170-820d-ac977d41e719",
   "metadata": {},
   "outputs": [],
   "source": [
    "# %load_ext autoreload\n",
    "# %autoreload 2"
   ]
  },
  {
   "cell_type": "code",
   "execution_count": 4,
   "id": "442c0bda-ffd8-4f22-ade3-23ea77f183c0",
   "metadata": {},
   "outputs": [],
   "source": [
    "from pepper.datasets import build_dataset, build_dataloader, build_sampler"
   ]
  },
  {
   "cell_type": "code",
   "execution_count": 5,
   "id": "90ef3bdb-0c6e-4f25-a257-3748bbb4ac43",
   "metadata": {},
   "outputs": [
    {
     "name": "stdout",
     "output_type": "stream",
     "text": [
      "img_norm_cfg = dict(\n",
      "    mean=[123.675, 116.28, 103.53], std=[58.395, 57.12, 57.375], to_rgb=True)\n",
      "train_pipeline = [\n",
      "    dict(type='LoadImageFromFile', to_float32=True),\n",
      "    dict(type='ResizeOrRandom2DTranslation', size=(256, 128), prob=0.5),\n",
      "    dict(type='RandomFlip', flip_prob=0.5, direction='horizontal'),\n",
      "    dict(\n",
      "        type='RandomErasing',\n",
      "        erase_prob=0.5,\n",
      "        min_area_ratio=0.02,\n",
      "        max_area_ratio=0.4),\n",
      "    dict(\n",
      "        type='Normalize',\n",
      "        mean=[123.675, 116.28, 103.53],\n",
      "        std=[58.395, 57.12, 57.375],\n",
      "        to_rgb=True),\n",
      "    dict(type='Collect', keys=['img', 'gt_label']),\n",
      "    dict(type='FormatBundle')\n",
      "]\n",
      "test_pipeline = [\n",
      "    dict(type='LoadImageFromFile'),\n",
      "    dict(type='Resize', size=(256, 128), interpolation='bilinear'),\n",
      "    dict(\n",
      "        type='Normalize',\n",
      "        mean=[123.675, 116.28, 103.53],\n",
      "        std=[58.395, 57.12, 57.375],\n",
      "        to_rgb=True),\n",
      "    dict(type='ImageToTensor', keys=['img']),\n",
      "    dict(type='Collect', keys=['img'])\n",
      "]\n",
      "data_type = 'Market1501Dataset'\n",
      "data_root = 'data/market1501/Market-1501-v15.09.15/'\n",
      "data = dict(\n",
      "    samples_per_gpu=32,\n",
      "    workers_per_gpu=6,\n",
      "    train=dict(\n",
      "        type='Market1501Dataset',\n",
      "        data_prefix='data/market1501/Market-1501-v15.09.15/bounding_box_train',\n",
      "        ann_file='data/market1501/Market-1501-v15.09.15/gtPepper/train.json',\n",
      "        pipeline=[\n",
      "            dict(type='LoadImageFromFile', to_float32=True),\n",
      "            dict(\n",
      "                type='ResizeOrRandom2DTranslation', size=(256, 128), prob=0.5),\n",
      "            dict(type='RandomFlip', flip_prob=0.5, direction='horizontal'),\n",
      "            dict(\n",
      "                type='RandomErasing',\n",
      "                erase_prob=0.5,\n",
      "                min_area_ratio=0.02,\n",
      "                max_area_ratio=0.4),\n",
      "            dict(\n",
      "                type='Normalize',\n",
      "                mean=[123.675, 116.28, 103.53],\n",
      "                std=[58.395, 57.12, 57.375],\n",
      "                to_rgb=True),\n",
      "            dict(type='Collect', keys=['img', 'gt_label']),\n",
      "            dict(type='FormatBundle')\n",
      "        ],\n",
      "        num_pids=751,\n",
      "        num_camids=6),\n",
      "    val=dict(\n",
      "        type='Market1501Dataset',\n",
      "        data_prefix=dict(\n",
      "            query='data/market1501/Market-1501-v15.09.15/query',\n",
      "            gallery='data/market1501/Market-1501-v15.09.15/bounding_box_test'),\n",
      "        ann_file=dict(\n",
      "            query='data/market1501/Market-1501-v15.09.15/gtPepper/query.json',\n",
      "            gallery=\n",
      "            'data/market1501/Market-1501-v15.09.15/gtPepper/gallery.json'),\n",
      "        pipeline=[\n",
      "            dict(type='LoadImageFromFile'),\n",
      "            dict(type='Resize', size=(256, 128), interpolation='bilinear'),\n",
      "            dict(\n",
      "                type='Normalize',\n",
      "                mean=[123.675, 116.28, 103.53],\n",
      "                std=[58.395, 57.12, 57.375],\n",
      "                to_rgb=True),\n",
      "            dict(type='ImageToTensor', keys=['img']),\n",
      "            dict(type='Collect', keys=['img'])\n",
      "        ],\n",
      "        num_pids=750,\n",
      "        num_camids=6),\n",
      "    test=dict(\n",
      "        type='Market1501Dataset',\n",
      "        data_prefix=dict(\n",
      "            query='data/market1501/Market-1501-v15.09.15/query',\n",
      "            gallery='data/market1501/Market-1501-v15.09.15/bounding_box_test'),\n",
      "        ann_file=dict(\n",
      "            query='data/market1501/Market-1501-v15.09.15/gtPepper/query.json',\n",
      "            gallery=\n",
      "            'data/market1501/Market-1501-v15.09.15/gtPepper/gallery.json'),\n",
      "        pipeline=[\n",
      "            dict(type='LoadImageFromFile'),\n",
      "            dict(type='Resize', size=(256, 128), interpolation='bilinear'),\n",
      "            dict(\n",
      "                type='Normalize',\n",
      "                mean=[123.675, 116.28, 103.53],\n",
      "                std=[58.395, 57.12, 57.375],\n",
      "                to_rgb=True),\n",
      "            dict(type='ImageToTensor', keys=['img']),\n",
      "            dict(type='Collect', keys=['img'])\n",
      "        ],\n",
      "        num_pids=750,\n",
      "        num_camids=6))\n",
      "\n"
     ]
    }
   ],
   "source": [
    "# load dataset configuration file\n",
    "\n",
    "cfg_file = \"configs/image/_base_/datasets/market1501.py\"\n",
    "# cfg_file = \"tests/configs/_base_/datasets/mini_market1501.py\"\n",
    "\n",
    "cfg = Config.fromfile(cfg_file)\n",
    "print(cfg.pretty_text)"
   ]
  },
  {
   "cell_type": "code",
   "execution_count": 6,
   "id": "31d484a7-1cdd-4096-adb6-f58158d7c6b8",
   "metadata": {},
   "outputs": [
    {
     "name": "stdout",
     "output_type": "stream",
     "text": [
      "dataset size: 12936\n",
      "# of pids: 751\n",
      "# of camids: 6\n"
     ]
    }
   ],
   "source": [
    "# get train datast\n",
    "dataset = build_dataset(cfg.data.train)\n",
    "\n",
    "print(\"dataset size:\", len(dataset))\n",
    "print(\"# of pids:\", dataset.NUM_PIDS)\n",
    "print(\"# of camids:\", dataset.NUM_CAMIDS)"
   ]
  },
  {
   "cell_type": "code",
   "execution_count": 7,
   "id": "8b088284-af5a-49c1-910f-b2317bde8b0f",
   "metadata": {},
   "outputs": [],
   "source": [
    "batch_size = 32\n",
    "num_instances = 4\n",
    "\n",
    "shuffle = False\n",
    "\n",
    "rank0_args = dict(\n",
    "    dataset=dataset,\n",
    "    num_replicas=2,\n",
    "    rank=0,\n",
    ")\n",
    "\n",
    "rank1_args = dict(\n",
    "    dataset=dataset,\n",
    "    num_replicas=2,\n",
    "    rank=1,\n",
    ")\n",
    "\n",
    "sampler_cfg = dict(\n",
    "    # type=\"InfiniteBalancedIdentityDistributedSampler\",\n",
    "    type=\"InfiniteNaiveIdentityDistributedSampler\",\n",
    "    batch_size=batch_size,\n",
    "    num_instances=num_instances,\n",
    "    shuffle=shuffle,\n",
    "    round_up=True,\n",
    "    seed=0,\n",
    ")\n",
    "\n",
    "rank0_sampler = build_sampler(sampler_cfg, default_args=rank0_args)\n",
    "\n",
    "rank1_sampler = build_sampler(sampler_cfg, default_args=rank1_args)\n",
    "\n",
    "data_info = deepcopy([info[\"img_info\"] for info in dataset.data_infos])"
   ]
  },
  {
   "cell_type": "code",
   "execution_count": 10,
   "id": "d09e7364-6167-45b4-bd35-25ebb43dfee6",
   "metadata": {},
   "outputs": [
    {
     "name": "stdout",
     "output_type": "stream",
     "text": [
      "rank:\tbatch\tpid\tcamid\n",
      "rank0\t0\t474\t2\n",
      "rank1\t0\t545\t0\n",
      "rank0\t1\t474\t4\n",
      "rank1\t1\t545\t5\n",
      "rank0\t2\t474\t4\n",
      "rank1\t2\t545\t2\n",
      "rank0\t3\t474\t0\n",
      "rank1\t3\t545\t1\n",
      "rank0\t4\t113\t5\n",
      "rank1\t4\t206\t4\n",
      "rank0\t5\t113\t4\n",
      "rank1\t5\t206\t0\n",
      "rank0\t6\t113\t4\n",
      "rank1\t6\t206\t2\n",
      "rank0\t7\t113\t1\n",
      "rank1\t7\t206\t2\n",
      "rank0\t8\t266\t1\n",
      "rank1\t8\t661\t5\n",
      "rank0\t9\t266\t2\n",
      "rank1\t9\t661\t4\n",
      "rank0\t10\t266\t5\n",
      "rank1\t10\t661\t5\n",
      "rank0\t11\t266\t5\n",
      "rank1\t11\t661\t0\n",
      "rank0\t12\t31\t3\n",
      "rank1\t12\t219\t4\n",
      "rank0\t13\t31\t3\n",
      "rank1\t13\t219\t3\n",
      "rank0\t14\t31\t0\n",
      "rank1\t14\t219\t0\n",
      "rank0\t15\t31\t3\n",
      "rank1\t15\t219\t2\n",
      "rank0\t16\t549\t5\n",
      "rank1\t16\t231\t2\n",
      "rank0\t17\t549\t1\n",
      "rank1\t17\t231\t2\n",
      "rank0\t18\t549\t5\n",
      "rank1\t18\t231\t0\n",
      "rank0\t19\t549\t2\n",
      "rank1\t19\t231\t2\n",
      "rank0\t20\t533\t0\n",
      "rank1\t20\t6\t5\n",
      "rank0\t21\t533\t2\n",
      "rank1\t21\t6\t2\n",
      "rank0\t22\t533\t1\n",
      "rank1\t22\t6\t3\n",
      "rank0\t23\t533\t0\n",
      "rank1\t23\t6\t0\n",
      "rank0\t24\t721\t1\n",
      "rank1\t24\t348\t5\n",
      "rank0\t25\t721\t5\n",
      "rank1\t25\t348\t1\n",
      "rank0\t26\t721\t0\n",
      "rank1\t26\t348\t5\n",
      "rank0\t27\t721\t1\n",
      "rank1\t27\t348\t4\n",
      "rank0\t28\t14\t5\n",
      "rank1\t28\t117\t2\n",
      "rank0\t29\t14\t2\n",
      "rank1\t29\t117\t2\n",
      "rank0\t30\t14\t1\n",
      "rank1\t30\t117\t5\n",
      "rank0\t31\t14\t5\n",
      "rank1\t31\t117\t2\n"
     ]
    }
   ],
   "source": [
    "rank0_iter = iter(rank0_sampler)\n",
    "rank1_iter = iter(rank1_sampler)\n",
    "\n",
    "print(\"rank:\\tbatch\\tpid\\tcamid\")\n",
    "\n",
    "for i in range(batch_size * 1):\n",
    "    \n",
    "    idx0 = next(rank0_iter)\n",
    "    idx1 = next(rank1_iter)\n",
    "    \n",
    "    info0 = data_info[idx0]\n",
    "    info1 = data_info[idx1]\n",
    "    \n",
    "    print(\"rank{}\\t{}\\t{}\\t{}\".format(0, i % batch_size, info0['pid'], info0['camid']))\n",
    "    print(\"rank{}\\t{}\\t{}\\t{}\".format(1, i % batch_size, info1['pid'], info1['camid']))"
   ]
  },
  {
   "cell_type": "code",
   "execution_count": 10,
   "id": "1bb09f1a-6e56-4ccb-aea1-f1e3ae4e77ff",
   "metadata": {},
   "outputs": [
    {
     "ename": "KeyboardInterrupt",
     "evalue": "",
     "output_type": "error",
     "traceback": [
      "\u001b[0;31m---------------------------------------------------------------------------\u001b[0m",
      "\u001b[0;31mKeyboardInterrupt\u001b[0m                         Traceback (most recent call last)",
      "\u001b[0;32m/tmp/ipykernel_2134860/8014131.py\u001b[0m in \u001b[0;36m<module>\u001b[0;34m\u001b[0m\n\u001b[1;32m      1\u001b[0m \u001b[0mindices\u001b[0m \u001b[0;34m=\u001b[0m \u001b[0;34m[\u001b[0m\u001b[0;34m]\u001b[0m\u001b[0;34m\u001b[0m\u001b[0;34m\u001b[0m\u001b[0m\n\u001b[1;32m      2\u001b[0m \u001b[0;34m\u001b[0m\u001b[0m\n\u001b[0;32m----> 3\u001b[0;31m \u001b[0;32mfor\u001b[0m \u001b[0ms\u001b[0m \u001b[0;32min\u001b[0m \u001b[0miter_samples\u001b[0m\u001b[0;34m:\u001b[0m\u001b[0;34m\u001b[0m\u001b[0;34m\u001b[0m\u001b[0m\n\u001b[0m\u001b[1;32m      4\u001b[0m     \u001b[0mindices\u001b[0m\u001b[0;34m.\u001b[0m\u001b[0mappend\u001b[0m\u001b[0;34m(\u001b[0m\u001b[0ms\u001b[0m\u001b[0;34m)\u001b[0m\u001b[0;34m\u001b[0m\u001b[0;34m\u001b[0m\u001b[0m\n",
      "\u001b[0;32m~/dev/reid/pepper/pepper/datasets/samplers/infinite_sampler.py\u001b[0m in \u001b[0;36m__iter__\u001b[0;34m(self)\u001b[0m\n\u001b[1;32m    339\u001b[0m     \u001b[0;32mdef\u001b[0m \u001b[0m__iter__\u001b[0m\u001b[0;34m(\u001b[0m\u001b[0mself\u001b[0m\u001b[0;34m)\u001b[0m\u001b[0;34m:\u001b[0m\u001b[0;34m\u001b[0m\u001b[0;34m\u001b[0m\u001b[0m\n\u001b[1;32m    340\u001b[0m         \u001b[0mstart\u001b[0m \u001b[0;34m=\u001b[0m \u001b[0mself\u001b[0m\u001b[0;34m.\u001b[0m\u001b[0mrank\u001b[0m\u001b[0;34m\u001b[0m\u001b[0;34m\u001b[0m\u001b[0m\n\u001b[0;32m--> 341\u001b[0;31m         yield from itertools.islice(\n\u001b[0m\u001b[1;32m    342\u001b[0m             \u001b[0mself\u001b[0m\u001b[0;34m.\u001b[0m\u001b[0m_infinite_indices\u001b[0m\u001b[0;34m(\u001b[0m\u001b[0;34m)\u001b[0m\u001b[0;34m,\u001b[0m \u001b[0mstart\u001b[0m\u001b[0;34m,\u001b[0m \u001b[0;32mNone\u001b[0m\u001b[0;34m,\u001b[0m \u001b[0mself\u001b[0m\u001b[0;34m.\u001b[0m\u001b[0mnum_replicas\u001b[0m\u001b[0;34m\u001b[0m\u001b[0;34m\u001b[0m\u001b[0m\n\u001b[1;32m    343\u001b[0m         )\n",
      "\u001b[0;32m~/dev/reid/pepper/pepper/datasets/samplers/infinite_sampler.py\u001b[0m in \u001b[0;36m_infinite_indices\u001b[0;34m(self)\u001b[0m\n\u001b[1;32m    357\u001b[0m                     \u001b[0;31m# Register pid in batch_idxs_dict if not\u001b[0m\u001b[0;34m\u001b[0m\u001b[0;34m\u001b[0m\u001b[0;34m\u001b[0m\u001b[0m\n\u001b[1;32m    358\u001b[0m                     \u001b[0;32mif\u001b[0m \u001b[0mpid\u001b[0m \u001b[0;32mnot\u001b[0m \u001b[0;32min\u001b[0m \u001b[0mbatch_idxs_dict\u001b[0m\u001b[0;34m:\u001b[0m\u001b[0;34m\u001b[0m\u001b[0;34m\u001b[0m\u001b[0m\n\u001b[0;32m--> 359\u001b[0;31m                         \u001b[0midxs\u001b[0m \u001b[0;34m=\u001b[0m \u001b[0mcopy\u001b[0m\u001b[0;34m.\u001b[0m\u001b[0mdeepcopy\u001b[0m\u001b[0;34m(\u001b[0m\u001b[0mself\u001b[0m\u001b[0;34m.\u001b[0m\u001b[0mpid_index\u001b[0m\u001b[0;34m[\u001b[0m\u001b[0mpid\u001b[0m\u001b[0;34m]\u001b[0m\u001b[0;34m)\u001b[0m\u001b[0;34m\u001b[0m\u001b[0;34m\u001b[0m\u001b[0m\n\u001b[0m\u001b[1;32m    360\u001b[0m                         \u001b[0;32mif\u001b[0m \u001b[0mlen\u001b[0m\u001b[0;34m(\u001b[0m\u001b[0midxs\u001b[0m\u001b[0;34m)\u001b[0m \u001b[0;34m<\u001b[0m \u001b[0mself\u001b[0m\u001b[0;34m.\u001b[0m\u001b[0mnum_instances\u001b[0m\u001b[0;34m:\u001b[0m\u001b[0;34m\u001b[0m\u001b[0;34m\u001b[0m\u001b[0m\n\u001b[1;32m    361\u001b[0m                             idxs = np.random.choice(\n",
      "\u001b[0;32m~/.pyenv/versions/3.8.8/lib/python3.8/copy.py\u001b[0m in \u001b[0;36mdeepcopy\u001b[0;34m(x, memo, _nil)\u001b[0m\n\u001b[1;32m    144\u001b[0m     \u001b[0mcopier\u001b[0m \u001b[0;34m=\u001b[0m \u001b[0m_deepcopy_dispatch\u001b[0m\u001b[0;34m.\u001b[0m\u001b[0mget\u001b[0m\u001b[0;34m(\u001b[0m\u001b[0mcls\u001b[0m\u001b[0;34m)\u001b[0m\u001b[0;34m\u001b[0m\u001b[0;34m\u001b[0m\u001b[0m\n\u001b[1;32m    145\u001b[0m     \u001b[0;32mif\u001b[0m \u001b[0mcopier\u001b[0m \u001b[0;32mis\u001b[0m \u001b[0;32mnot\u001b[0m \u001b[0;32mNone\u001b[0m\u001b[0;34m:\u001b[0m\u001b[0;34m\u001b[0m\u001b[0;34m\u001b[0m\u001b[0m\n\u001b[0;32m--> 146\u001b[0;31m         \u001b[0my\u001b[0m \u001b[0;34m=\u001b[0m \u001b[0mcopier\u001b[0m\u001b[0;34m(\u001b[0m\u001b[0mx\u001b[0m\u001b[0;34m,\u001b[0m \u001b[0mmemo\u001b[0m\u001b[0;34m)\u001b[0m\u001b[0;34m\u001b[0m\u001b[0;34m\u001b[0m\u001b[0m\n\u001b[0m\u001b[1;32m    147\u001b[0m     \u001b[0;32melse\u001b[0m\u001b[0;34m:\u001b[0m\u001b[0;34m\u001b[0m\u001b[0;34m\u001b[0m\u001b[0m\n\u001b[1;32m    148\u001b[0m         \u001b[0;32mif\u001b[0m \u001b[0missubclass\u001b[0m\u001b[0;34m(\u001b[0m\u001b[0mcls\u001b[0m\u001b[0;34m,\u001b[0m \u001b[0mtype\u001b[0m\u001b[0;34m)\u001b[0m\u001b[0;34m:\u001b[0m\u001b[0;34m\u001b[0m\u001b[0;34m\u001b[0m\u001b[0m\n",
      "\u001b[0;32m~/.pyenv/versions/3.8.8/lib/python3.8/copy.py\u001b[0m in \u001b[0;36m_deepcopy_list\u001b[0;34m(x, memo, deepcopy)\u001b[0m\n\u001b[1;32m    203\u001b[0m     \u001b[0mappend\u001b[0m \u001b[0;34m=\u001b[0m \u001b[0my\u001b[0m\u001b[0;34m.\u001b[0m\u001b[0mappend\u001b[0m\u001b[0;34m\u001b[0m\u001b[0;34m\u001b[0m\u001b[0m\n\u001b[1;32m    204\u001b[0m     \u001b[0;32mfor\u001b[0m \u001b[0ma\u001b[0m \u001b[0;32min\u001b[0m \u001b[0mx\u001b[0m\u001b[0;34m:\u001b[0m\u001b[0;34m\u001b[0m\u001b[0;34m\u001b[0m\u001b[0m\n\u001b[0;32m--> 205\u001b[0;31m         \u001b[0mappend\u001b[0m\u001b[0;34m(\u001b[0m\u001b[0mdeepcopy\u001b[0m\u001b[0;34m(\u001b[0m\u001b[0ma\u001b[0m\u001b[0;34m,\u001b[0m \u001b[0mmemo\u001b[0m\u001b[0;34m)\u001b[0m\u001b[0;34m)\u001b[0m\u001b[0;34m\u001b[0m\u001b[0;34m\u001b[0m\u001b[0m\n\u001b[0m\u001b[1;32m    206\u001b[0m     \u001b[0;32mreturn\u001b[0m \u001b[0my\u001b[0m\u001b[0;34m\u001b[0m\u001b[0;34m\u001b[0m\u001b[0m\n\u001b[1;32m    207\u001b[0m \u001b[0md\u001b[0m\u001b[0;34m[\u001b[0m\u001b[0mlist\u001b[0m\u001b[0;34m]\u001b[0m \u001b[0;34m=\u001b[0m \u001b[0m_deepcopy_list\u001b[0m\u001b[0;34m\u001b[0m\u001b[0;34m\u001b[0m\u001b[0m\n",
      "\u001b[0;32m~/.pyenv/versions/3.8.8/lib/python3.8/copy.py\u001b[0m in \u001b[0;36mdeepcopy\u001b[0;34m(x, memo, _nil)\u001b[0m\n\u001b[1;32m    140\u001b[0m         \u001b[0;32mreturn\u001b[0m \u001b[0my\u001b[0m\u001b[0;34m\u001b[0m\u001b[0;34m\u001b[0m\u001b[0m\n\u001b[1;32m    141\u001b[0m \u001b[0;34m\u001b[0m\u001b[0m\n\u001b[0;32m--> 142\u001b[0;31m     \u001b[0mcls\u001b[0m \u001b[0;34m=\u001b[0m \u001b[0mtype\u001b[0m\u001b[0;34m(\u001b[0m\u001b[0mx\u001b[0m\u001b[0;34m)\u001b[0m\u001b[0;34m\u001b[0m\u001b[0;34m\u001b[0m\u001b[0m\n\u001b[0m\u001b[1;32m    143\u001b[0m \u001b[0;34m\u001b[0m\u001b[0m\n\u001b[1;32m    144\u001b[0m     \u001b[0mcopier\u001b[0m \u001b[0;34m=\u001b[0m \u001b[0m_deepcopy_dispatch\u001b[0m\u001b[0;34m.\u001b[0m\u001b[0mget\u001b[0m\u001b[0;34m(\u001b[0m\u001b[0mcls\u001b[0m\u001b[0;34m)\u001b[0m\u001b[0;34m\u001b[0m\u001b[0;34m\u001b[0m\u001b[0m\n",
      "\u001b[0;31mKeyboardInterrupt\u001b[0m: "
     ]
    }
   ],
   "source": [
    "indices = []\n",
    "\n",
    "for s in iter_samples:\n",
    "    indices.append(s)"
   ]
  },
  {
   "cell_type": "code",
   "execution_count": 11,
   "id": "725c05f4-ea62-4ef9-b4ac-766cef2bd57d",
   "metadata": {},
   "outputs": [
    {
     "data": {
      "text/plain": [
       "796480"
      ]
     },
     "execution_count": 11,
     "metadata": {},
     "output_type": "execute_result"
    }
   ],
   "source": [
    "len(indices)"
   ]
  },
  {
   "cell_type": "code",
   "execution_count": 90,
   "id": "cc2eb1a7-5241-4d92-8f75-f4266b325a70",
   "metadata": {},
   "outputs": [
    {
     "data": {
      "text/plain": [
       "202.125"
      ]
     },
     "execution_count": 90,
     "metadata": {},
     "output_type": "execute_result"
    }
   ],
   "source": [
    "(12936 / 32) / 2"
   ]
  },
  {
   "cell_type": "code",
   "execution_count": 12,
   "id": "4aa5566e-9b78-492f-976a-7af62de07ec7",
   "metadata": {},
   "outputs": [
    {
     "data": {
      "text/plain": [
       "47.0"
      ]
     },
     "execution_count": 12,
     "metadata": {},
     "output_type": "execute_result"
    }
   ],
   "source": [
    "len(indices) / 32"
   ]
  },
  {
   "cell_type": "code",
   "execution_count": 93,
   "id": "930680cd-4ee7-4fcd-87c4-905d3ba1eba8",
   "metadata": {},
   "outputs": [
    {
     "data": {
      "text/plain": [
       "202.125"
      ]
     },
     "execution_count": 93,
     "metadata": {},
     "output_type": "execute_result"
    }
   ],
   "source": [
    "12936 / 64"
   ]
  },
  {
   "cell_type": "code",
   "execution_count": null,
   "id": "652492ff-5c7a-4187-bbda-84a6e7deb47d",
   "metadata": {},
   "outputs": [],
   "source": []
  }
 ],
 "metadata": {
  "kernelspec": {
   "display_name": "Python 3 (ipykernel)",
   "language": "python",
   "name": "python3"
  },
  "language_info": {
   "codemirror_mode": {
    "name": "ipython",
    "version": 3
   },
   "file_extension": ".py",
   "mimetype": "text/x-python",
   "name": "python",
   "nbconvert_exporter": "python",
   "pygments_lexer": "ipython3",
   "version": "3.8.8"
  }
 },
 "nbformat": 4,
 "nbformat_minor": 5
}
